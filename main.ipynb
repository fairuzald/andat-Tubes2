{
 "cells": [
  {
   "cell_type": "markdown",
   "metadata": {},
   "source": [
    "## Import Library, mengambil, dan membaca data"
   ]
  },
  {
   "cell_type": "code",
   "execution_count": 139,
   "metadata": {},
   "outputs": [
    {
     "data": {
      "text/html": [
       "<div>\n",
       "<style scoped>\n",
       "    .dataframe tbody tr th:only-of-type {\n",
       "        vertical-align: middle;\n",
       "    }\n",
       "\n",
       "    .dataframe tbody tr th {\n",
       "        vertical-align: top;\n",
       "    }\n",
       "\n",
       "    .dataframe thead th {\n",
       "        text-align: right;\n",
       "    }\n",
       "</style>\n",
       "<table border=\"1\" class=\"dataframe\">\n",
       "  <thead>\n",
       "    <tr style=\"text-align: right;\">\n",
       "      <th></th>\n",
       "      <th>timestamp</th>\n",
       "      <th>company</th>\n",
       "      <th>level</th>\n",
       "      <th>title</th>\n",
       "      <th>totalyearlycompensation</th>\n",
       "      <th>location</th>\n",
       "      <th>yearsofexperience</th>\n",
       "      <th>yearsatcompany</th>\n",
       "      <th>tag</th>\n",
       "      <th>basesalary</th>\n",
       "      <th>...</th>\n",
       "      <th>Doctorate_Degree</th>\n",
       "      <th>Highschool</th>\n",
       "      <th>Some_College</th>\n",
       "      <th>Race_Asian</th>\n",
       "      <th>Race_White</th>\n",
       "      <th>Race_Two_Or_More</th>\n",
       "      <th>Race_Black</th>\n",
       "      <th>Race_Hispanic</th>\n",
       "      <th>Race</th>\n",
       "      <th>Education</th>\n",
       "    </tr>\n",
       "  </thead>\n",
       "  <tbody>\n",
       "    <tr>\n",
       "      <th>0</th>\n",
       "      <td>6/7/2017 11:33:27</td>\n",
       "      <td>Oracle</td>\n",
       "      <td>L3</td>\n",
       "      <td>Product Manager</td>\n",
       "      <td>127000</td>\n",
       "      <td>Redwood City, CA</td>\n",
       "      <td>1.5</td>\n",
       "      <td>1.5</td>\n",
       "      <td>NaN</td>\n",
       "      <td>107000.0</td>\n",
       "      <td>...</td>\n",
       "      <td>0</td>\n",
       "      <td>0</td>\n",
       "      <td>0</td>\n",
       "      <td>0</td>\n",
       "      <td>0</td>\n",
       "      <td>0</td>\n",
       "      <td>0</td>\n",
       "      <td>0</td>\n",
       "      <td>NaN</td>\n",
       "      <td>NaN</td>\n",
       "    </tr>\n",
       "    <tr>\n",
       "      <th>1</th>\n",
       "      <td>6/10/2017 17:11:29</td>\n",
       "      <td>eBay</td>\n",
       "      <td>SE 2</td>\n",
       "      <td>Software Engineer</td>\n",
       "      <td>100000</td>\n",
       "      <td>San Francisco, CA</td>\n",
       "      <td>5.0</td>\n",
       "      <td>3.0</td>\n",
       "      <td>NaN</td>\n",
       "      <td>0.0</td>\n",
       "      <td>...</td>\n",
       "      <td>0</td>\n",
       "      <td>0</td>\n",
       "      <td>0</td>\n",
       "      <td>0</td>\n",
       "      <td>0</td>\n",
       "      <td>0</td>\n",
       "      <td>0</td>\n",
       "      <td>0</td>\n",
       "      <td>NaN</td>\n",
       "      <td>NaN</td>\n",
       "    </tr>\n",
       "    <tr>\n",
       "      <th>2</th>\n",
       "      <td>6/11/2017 14:53:57</td>\n",
       "      <td>Amazon</td>\n",
       "      <td>L7</td>\n",
       "      <td>Product Manager</td>\n",
       "      <td>310000</td>\n",
       "      <td>Seattle, WA</td>\n",
       "      <td>8.0</td>\n",
       "      <td>0.0</td>\n",
       "      <td>NaN</td>\n",
       "      <td>155000.0</td>\n",
       "      <td>...</td>\n",
       "      <td>0</td>\n",
       "      <td>0</td>\n",
       "      <td>0</td>\n",
       "      <td>0</td>\n",
       "      <td>0</td>\n",
       "      <td>0</td>\n",
       "      <td>0</td>\n",
       "      <td>0</td>\n",
       "      <td>NaN</td>\n",
       "      <td>NaN</td>\n",
       "    </tr>\n",
       "    <tr>\n",
       "      <th>3</th>\n",
       "      <td>6/17/2017 0:23:14</td>\n",
       "      <td>Apple</td>\n",
       "      <td>M1</td>\n",
       "      <td>Software Engineering Manager</td>\n",
       "      <td>372000</td>\n",
       "      <td>Sunnyvale, CA</td>\n",
       "      <td>7.0</td>\n",
       "      <td>5.0</td>\n",
       "      <td>NaN</td>\n",
       "      <td>157000.0</td>\n",
       "      <td>...</td>\n",
       "      <td>0</td>\n",
       "      <td>0</td>\n",
       "      <td>0</td>\n",
       "      <td>0</td>\n",
       "      <td>0</td>\n",
       "      <td>0</td>\n",
       "      <td>0</td>\n",
       "      <td>0</td>\n",
       "      <td>NaN</td>\n",
       "      <td>NaN</td>\n",
       "    </tr>\n",
       "    <tr>\n",
       "      <th>4</th>\n",
       "      <td>6/20/2017 10:58:51</td>\n",
       "      <td>Microsoft</td>\n",
       "      <td>60</td>\n",
       "      <td>Software Engineer</td>\n",
       "      <td>157000</td>\n",
       "      <td>Mountain View, CA</td>\n",
       "      <td>5.0</td>\n",
       "      <td>3.0</td>\n",
       "      <td>NaN</td>\n",
       "      <td>0.0</td>\n",
       "      <td>...</td>\n",
       "      <td>0</td>\n",
       "      <td>0</td>\n",
       "      <td>0</td>\n",
       "      <td>0</td>\n",
       "      <td>0</td>\n",
       "      <td>0</td>\n",
       "      <td>0</td>\n",
       "      <td>0</td>\n",
       "      <td>NaN</td>\n",
       "      <td>NaN</td>\n",
       "    </tr>\n",
       "    <tr>\n",
       "      <th>...</th>\n",
       "      <td>...</td>\n",
       "      <td>...</td>\n",
       "      <td>...</td>\n",
       "      <td>...</td>\n",
       "      <td>...</td>\n",
       "      <td>...</td>\n",
       "      <td>...</td>\n",
       "      <td>...</td>\n",
       "      <td>...</td>\n",
       "      <td>...</td>\n",
       "      <td>...</td>\n",
       "      <td>...</td>\n",
       "      <td>...</td>\n",
       "      <td>...</td>\n",
       "      <td>...</td>\n",
       "      <td>...</td>\n",
       "      <td>...</td>\n",
       "      <td>...</td>\n",
       "      <td>...</td>\n",
       "      <td>...</td>\n",
       "      <td>...</td>\n",
       "    </tr>\n",
       "    <tr>\n",
       "      <th>62637</th>\n",
       "      <td>9/9/2018 11:52:32</td>\n",
       "      <td>Google</td>\n",
       "      <td>T4</td>\n",
       "      <td>Software Engineer</td>\n",
       "      <td>327000</td>\n",
       "      <td>Seattle, WA</td>\n",
       "      <td>10.0</td>\n",
       "      <td>1.0</td>\n",
       "      <td>Distributed Systems (Back-End)</td>\n",
       "      <td>155000.0</td>\n",
       "      <td>...</td>\n",
       "      <td>0</td>\n",
       "      <td>0</td>\n",
       "      <td>0</td>\n",
       "      <td>0</td>\n",
       "      <td>0</td>\n",
       "      <td>0</td>\n",
       "      <td>0</td>\n",
       "      <td>0</td>\n",
       "      <td>NaN</td>\n",
       "      <td>NaN</td>\n",
       "    </tr>\n",
       "    <tr>\n",
       "      <th>62638</th>\n",
       "      <td>9/13/2018 8:23:32</td>\n",
       "      <td>Microsoft</td>\n",
       "      <td>62</td>\n",
       "      <td>Software Engineer</td>\n",
       "      <td>237000</td>\n",
       "      <td>Redmond, WA</td>\n",
       "      <td>2.0</td>\n",
       "      <td>2.0</td>\n",
       "      <td>Full Stack</td>\n",
       "      <td>146900.0</td>\n",
       "      <td>...</td>\n",
       "      <td>0</td>\n",
       "      <td>0</td>\n",
       "      <td>0</td>\n",
       "      <td>0</td>\n",
       "      <td>0</td>\n",
       "      <td>0</td>\n",
       "      <td>0</td>\n",
       "      <td>0</td>\n",
       "      <td>NaN</td>\n",
       "      <td>NaN</td>\n",
       "    </tr>\n",
       "    <tr>\n",
       "      <th>62639</th>\n",
       "      <td>9/13/2018 14:35:59</td>\n",
       "      <td>MSFT</td>\n",
       "      <td>63</td>\n",
       "      <td>Software Engineer</td>\n",
       "      <td>220000</td>\n",
       "      <td>Seattle, WA</td>\n",
       "      <td>14.0</td>\n",
       "      <td>12.0</td>\n",
       "      <td>Full Stack</td>\n",
       "      <td>157000.0</td>\n",
       "      <td>...</td>\n",
       "      <td>0</td>\n",
       "      <td>0</td>\n",
       "      <td>0</td>\n",
       "      <td>0</td>\n",
       "      <td>0</td>\n",
       "      <td>0</td>\n",
       "      <td>0</td>\n",
       "      <td>0</td>\n",
       "      <td>NaN</td>\n",
       "      <td>NaN</td>\n",
       "    </tr>\n",
       "    <tr>\n",
       "      <th>62640</th>\n",
       "      <td>9/16/2018 16:10:35</td>\n",
       "      <td>Salesforce</td>\n",
       "      <td>Lead MTS</td>\n",
       "      <td>Software Engineer</td>\n",
       "      <td>280000</td>\n",
       "      <td>San Francisco, CA</td>\n",
       "      <td>8.0</td>\n",
       "      <td>4.0</td>\n",
       "      <td>iOS</td>\n",
       "      <td>194688.0</td>\n",
       "      <td>...</td>\n",
       "      <td>0</td>\n",
       "      <td>0</td>\n",
       "      <td>0</td>\n",
       "      <td>0</td>\n",
       "      <td>0</td>\n",
       "      <td>0</td>\n",
       "      <td>0</td>\n",
       "      <td>0</td>\n",
       "      <td>NaN</td>\n",
       "      <td>NaN</td>\n",
       "    </tr>\n",
       "    <tr>\n",
       "      <th>62641</th>\n",
       "      <td>1/29/2019 5:12:59</td>\n",
       "      <td>apple</td>\n",
       "      <td>ict3</td>\n",
       "      <td>Software Engineer</td>\n",
       "      <td>200000</td>\n",
       "      <td>Sunnyvale, CA</td>\n",
       "      <td>0.0</td>\n",
       "      <td>0.0</td>\n",
       "      <td>ML / AI</td>\n",
       "      <td>155000.0</td>\n",
       "      <td>...</td>\n",
       "      <td>0</td>\n",
       "      <td>0</td>\n",
       "      <td>0</td>\n",
       "      <td>0</td>\n",
       "      <td>0</td>\n",
       "      <td>0</td>\n",
       "      <td>0</td>\n",
       "      <td>0</td>\n",
       "      <td>NaN</td>\n",
       "      <td>NaN</td>\n",
       "    </tr>\n",
       "  </tbody>\n",
       "</table>\n",
       "<p>62642 rows × 29 columns</p>\n",
       "</div>"
      ],
      "text/plain": [
       "                timestamp     company     level                         title  \\\n",
       "0       6/7/2017 11:33:27      Oracle        L3               Product Manager   \n",
       "1      6/10/2017 17:11:29        eBay      SE 2             Software Engineer   \n",
       "2      6/11/2017 14:53:57      Amazon        L7               Product Manager   \n",
       "3       6/17/2017 0:23:14       Apple        M1  Software Engineering Manager   \n",
       "4      6/20/2017 10:58:51   Microsoft        60             Software Engineer   \n",
       "...                   ...         ...       ...                           ...   \n",
       "62637   9/9/2018 11:52:32      Google        T4             Software Engineer   \n",
       "62638   9/13/2018 8:23:32   Microsoft        62             Software Engineer   \n",
       "62639  9/13/2018 14:35:59        MSFT        63             Software Engineer   \n",
       "62640  9/16/2018 16:10:35  Salesforce  Lead MTS             Software Engineer   \n",
       "62641   1/29/2019 5:12:59       apple      ict3             Software Engineer   \n",
       "\n",
       "       totalyearlycompensation           location  yearsofexperience  \\\n",
       "0                       127000   Redwood City, CA                1.5   \n",
       "1                       100000  San Francisco, CA                5.0   \n",
       "2                       310000        Seattle, WA                8.0   \n",
       "3                       372000      Sunnyvale, CA                7.0   \n",
       "4                       157000  Mountain View, CA                5.0   \n",
       "...                        ...                ...                ...   \n",
       "62637                   327000        Seattle, WA               10.0   \n",
       "62638                   237000        Redmond, WA                2.0   \n",
       "62639                   220000        Seattle, WA               14.0   \n",
       "62640                   280000  San Francisco, CA                8.0   \n",
       "62641                   200000      Sunnyvale, CA                0.0   \n",
       "\n",
       "       yearsatcompany                             tag  basesalary  ...  \\\n",
       "0                 1.5                             NaN    107000.0  ...   \n",
       "1                 3.0                             NaN         0.0  ...   \n",
       "2                 0.0                             NaN    155000.0  ...   \n",
       "3                 5.0                             NaN    157000.0  ...   \n",
       "4                 3.0                             NaN         0.0  ...   \n",
       "...               ...                             ...         ...  ...   \n",
       "62637             1.0  Distributed Systems (Back-End)    155000.0  ...   \n",
       "62638             2.0                      Full Stack    146900.0  ...   \n",
       "62639            12.0                      Full Stack    157000.0  ...   \n",
       "62640             4.0                             iOS    194688.0  ...   \n",
       "62641             0.0                         ML / AI    155000.0  ...   \n",
       "\n",
       "       Doctorate_Degree  Highschool Some_College Race_Asian  Race_White  \\\n",
       "0                     0           0            0          0           0   \n",
       "1                     0           0            0          0           0   \n",
       "2                     0           0            0          0           0   \n",
       "3                     0           0            0          0           0   \n",
       "4                     0           0            0          0           0   \n",
       "...                 ...         ...          ...        ...         ...   \n",
       "62637                 0           0            0          0           0   \n",
       "62638                 0           0            0          0           0   \n",
       "62639                 0           0            0          0           0   \n",
       "62640                 0           0            0          0           0   \n",
       "62641                 0           0            0          0           0   \n",
       "\n",
       "       Race_Two_Or_More  Race_Black  Race_Hispanic  Race  Education  \n",
       "0                     0           0              0   NaN        NaN  \n",
       "1                     0           0              0   NaN        NaN  \n",
       "2                     0           0              0   NaN        NaN  \n",
       "3                     0           0              0   NaN        NaN  \n",
       "4                     0           0              0   NaN        NaN  \n",
       "...                 ...         ...            ...   ...        ...  \n",
       "62637                 0           0              0   NaN        NaN  \n",
       "62638                 0           0              0   NaN        NaN  \n",
       "62639                 0           0              0   NaN        NaN  \n",
       "62640                 0           0              0   NaN        NaN  \n",
       "62641                 0           0              0   NaN        NaN  \n",
       "\n",
       "[62642 rows x 29 columns]"
      ]
     },
     "execution_count": 139,
     "metadata": {},
     "output_type": "execute_result"
    }
   ],
   "source": [
    "import pandas as pd\n",
    "import matplotlib.pyplot as plt\n",
    "import numpy as np\n",
    "\n",
    "data = pd.read_csv(\"Levels_Fyi_Salary_Data.csv\")\n",
    "data"
   ]
  },
  {
   "cell_type": "markdown",
   "metadata": {},
   "source": [
    "## Penjelasan data yang digunakan\n",
    "\n",
    "Data yang kami gunakan adalah data mengenai gaji dari perusahaan terbaik dunia. <br>\n",
    "Tujuan kami menggunakan data ini yaitu untuk mengetahui prospek pekerjaan dan gaji mengenai dunia teknologi yang selaras dengan fakultas STEI mengacu pada perusahaan besar global, sehingga diharapkan dapat memahami terkait gaji dan pekerjaan yang sedang banyak kuotanya. <br>\n",
    "Sumber data kami adalah https://www.kaggle.com/datasets/jackogozaly/data-science-and-stem-salaries <br>\n",
    "Data tersebut adalah hasil pengumpulan data oleh kaggle dari https://www.levels.fyi/?compare=Google,Facebook,Microsoft&track=Software%20Engineer . <br>\n",
    "Data yang kami ambil berisi mengenai informasi tingkat pendidikan, kompensasi (gaji pokok, bonus, hibah saham),\\\n",
    "ras pekerja, dan lainnya.\n",
    "format data kita adalah **csv** atau dengan nama lain \"comma seperated values\"\\\n",
    "ukuran filenya adalah 12,544 MB dengan\n",
    "dimensi dan total elemen dari data kita adalah sebagai berikut :"
   ]
  },
  {
   "cell_type": "markdown",
   "metadata": {},
   "source": [
    "### Jumlah Baris dan Kolom"
   ]
  },
  {
   "cell_type": "code",
   "execution_count": 166,
   "metadata": {},
   "outputs": [
    {
     "name": "stdout",
     "output_type": "stream",
     "text": [
      "Jumlah baris: 62642\n",
      "Jumlah kolom: 29\n"
     ]
    }
   ],
   "source": [
    "\n",
    "print(\"Jumlah baris:\", len(data))\n",
    "print(\"Jumlah kolom:\", len(data.columns))\n",
    "    # menampilkan dimensi dari data\n",
    "    # (baris,kolom)"
   ]
  },
  {
   "cell_type": "markdown",
   "metadata": {},
   "source": [
    "### Jumlah Elemen Data"
   ]
  },
  {
   "cell_type": "code",
   "execution_count": 170,
   "metadata": {},
   "outputs": [
    {
     "name": "stdout",
     "output_type": "stream",
     "text": [
      "Total elemen data: 1816618\n"
     ]
    }
   ],
   "source": [
    "print(\"Total elemen data:\", data.size)\n",
    "    # menampilkan total elemen data"
   ]
  },
  {
   "cell_type": "markdown",
   "metadata": {},
   "source": [
    "## Penjelasan atribut/kolom"
   ]
  },
  {
   "cell_type": "markdown",
   "metadata": {},
   "source": [
    "Data kita mengandung kolom-kolom sebagai berikut\n"
   ]
  },
  {
   "cell_type": "code",
   "execution_count": 142,
   "metadata": {},
   "outputs": [
    {
     "data": {
      "text/plain": [
       "Index(['timestamp', 'company', 'level', 'title', 'totalyearlycompensation',\n",
       "       'location', 'yearsofexperience', 'yearsatcompany', 'tag', 'basesalary',\n",
       "       'stockgrantvalue', 'bonus', 'gender', 'otherdetails', 'cityid', 'dmaid',\n",
       "       'rowNumber', 'Masters_Degree', 'Bachelors_Degree', 'Doctorate_Degree',\n",
       "       'Highschool', 'Some_College', 'Race_Asian', 'Race_White',\n",
       "       'Race_Two_Or_More', 'Race_Black', 'Race_Hispanic', 'Race', 'Education'],\n",
       "      dtype='object')"
      ]
     },
     "execution_count": 142,
     "metadata": {},
     "output_type": "execute_result"
    }
   ],
   "source": [
    "data.columns"
   ]
  },
  {
   "cell_type": "markdown",
   "metadata": {},
   "source": [
    "Data type dari setiap kolom adalah sebagai berikut\n"
   ]
  },
  {
   "cell_type": "code",
   "execution_count": 143,
   "metadata": {},
   "outputs": [
    {
     "name": "stdout",
     "output_type": "stream",
     "text": [
      "<class 'pandas.core.frame.DataFrame'>\n",
      "RangeIndex: 62642 entries, 0 to 62641\n",
      "Data columns (total 29 columns):\n",
      " #   Column                   Non-Null Count  Dtype  \n",
      "---  ------                   --------------  -----  \n",
      " 0   timestamp                62642 non-null  object \n",
      " 1   company                  62637 non-null  object \n",
      " 2   level                    62523 non-null  object \n",
      " 3   title                    62642 non-null  object \n",
      " 4   totalyearlycompensation  62642 non-null  int64  \n",
      " 5   location                 62642 non-null  object \n",
      " 6   yearsofexperience        62642 non-null  float64\n",
      " 7   yearsatcompany           62642 non-null  float64\n",
      " 8   tag                      61788 non-null  object \n",
      " 9   basesalary               62642 non-null  float64\n",
      " 10  stockgrantvalue          62642 non-null  float64\n",
      " 11  bonus                    62642 non-null  float64\n",
      " 12  gender                   43102 non-null  object \n",
      " 13  otherdetails             40137 non-null  object \n",
      " 14  cityid                   62642 non-null  int64  \n",
      " 15  dmaid                    62640 non-null  float64\n",
      " 16  rowNumber                62642 non-null  int64  \n",
      " 17  Masters_Degree           62642 non-null  int64  \n",
      " 18  Bachelors_Degree         62642 non-null  int64  \n",
      " 19  Doctorate_Degree         62642 non-null  int64  \n",
      " 20  Highschool               62642 non-null  int64  \n",
      " 21  Some_College             62642 non-null  int64  \n",
      " 22  Race_Asian               62642 non-null  int64  \n",
      " 23  Race_White               62642 non-null  int64  \n",
      " 24  Race_Two_Or_More         62642 non-null  int64  \n",
      " 25  Race_Black               62642 non-null  int64  \n",
      " 26  Race_Hispanic            62642 non-null  int64  \n",
      " 27  Race                     22427 non-null  object \n",
      " 28  Education                30370 non-null  object \n",
      "dtypes: float64(6), int64(13), object(10)\n",
      "memory usage: 13.9+ MB\n"
     ]
    }
   ],
   "source": [
    "data.info()"
   ]
  },
  {
   "cell_type": "markdown",
   "metadata": {},
   "source": [
    "Tipe data yang terdapat pada tiap kolom bersifat sebagai berikut :\n",
    "- Categorical - Ordinal : <br> \n",
    "totalyearlycompensation, cityid, rowNumber, Masters_Degree, Bachelors_Degree, Doctorate, Highschool, Some_College, Race_Asian, Race_White, Race_Two_Or_More, Race_Black, dan Race_Hispanic\n",
    "\n",
    "- Categorical - Nominal : <br>\n",
    "company, level, title, location, tag, gender, otherdetails, Race, dan Education\n",
    "\n",
    "- Quantitative - Continues : <br>\n",
    "timestamp\n",
    "\n",
    "- Quantitative - Discrete : <br>\n",
    "yearsofexperience, yearsatcompany, basesalary, stockgrantvalue, bonus, dan dmaid\n"
   ]
  },
  {
   "cell_type": "markdown",
   "metadata": {},
   "source": [
    "Karakteristik - karakteristik yang terdapat pada kolom adalah sebagai berikut :\n",
    "- Rank : terdiri dari angka yang 1 hingga 16600 dengan 1 adalah game dengan Global_Sales terbanyak dan angka terbesar adalah game dengan Global_Sales paling sedikit\n",
    "- Name : Terdiri dari nama - nama game\n",
    "- Platform : sistem yang digunakan untuk menjalankan game, data pada kolom ini terdiri dari:"
   ]
  },
  {
   "cell_type": "code",
   "execution_count": 144,
   "metadata": {},
   "outputs": [
    {
     "data": {
      "text/plain": [
       "array(['Oracle', 'eBay', 'Amazon', ..., 'VmWare', 'SalesForce',\n",
       "       'tableau software'], dtype=object)"
      ]
     },
     "execution_count": 144,
     "metadata": {},
     "output_type": "execute_result"
    }
   ],
   "source": [
    "data[\"company\"].unique()"
   ]
  },
  {
   "cell_type": "code",
   "execution_count": 145,
   "metadata": {},
   "outputs": [
    {
     "data": {
      "text/plain": [
       "array(['L3', 'SE 2', 'L7', ..., 'L6 (Staff)', 'Mts 1',\n",
       "       'Bioinformatics Scientist II'], dtype=object)"
      ]
     },
     "execution_count": 145,
     "metadata": {},
     "output_type": "execute_result"
    }
   ],
   "source": [
    "data[\"level\"].unique()"
   ]
  },
  {
   "cell_type": "code",
   "execution_count": 146,
   "metadata": {},
   "outputs": [
    {
     "data": {
      "text/plain": [
       "array(['Product Manager', 'Software Engineer',\n",
       "       'Software Engineering Manager', 'Data Scientist',\n",
       "       'Solution Architect', 'Technical Program Manager',\n",
       "       'Human Resources', 'Product Designer', 'Marketing',\n",
       "       'Business Analyst', 'Hardware Engineer', 'Sales', 'Recruiter',\n",
       "       'Mechanical Engineer', 'Management Consultant'], dtype=object)"
      ]
     },
     "execution_count": 146,
     "metadata": {},
     "output_type": "execute_result"
    }
   ],
   "source": [
    "data[\"title\"].unique()"
   ]
  },
  {
   "cell_type": "code",
   "execution_count": 147,
   "metadata": {},
   "outputs": [
    {
     "name": "stdout",
     "output_type": "stream",
     "text": [
      "10000 - 4980000 (dalam USD)\n"
     ]
    }
   ],
   "source": [
    "min_year_fee = data[\"totalyearlycompensation\"].min()\n",
    "max_year_fee = data[\"totalyearlycompensation\"].max()\n",
    "print (str(min_year_fee),end= \" - \")\n",
    "print(str(max_year_fee),end = \" \")\n",
    "print(\"(dalam USD)\")\n"
   ]
  },
  {
   "cell_type": "code",
   "execution_count": 148,
   "metadata": {},
   "outputs": [
    {
     "name": "stdout",
     "output_type": "stream",
     "text": [
      "0.0 - 69.0 (tahun)\n"
     ]
    }
   ],
   "source": [
    "min_year_exp = data[\"yearsofexperience\"].min()\n",
    "max_year_exp = data[\"yearsofexperience\"].max()\n",
    "print (str(min_year_exp),end= \" - \")\n",
    "print(str(max_year_exp),end = \" \")\n",
    "print(\"(tahun)\")"
   ]
  },
  {
   "cell_type": "code",
   "execution_count": 149,
   "metadata": {},
   "outputs": [
    {
     "name": "stdout",
     "output_type": "stream",
     "text": [
      "0.0 - 69.0 (tahun)\n"
     ]
    }
   ],
   "source": [
    "min_year_comp = data[\"yearsatcompany\"].min()\n",
    "max_year_comp = data[\"yearsatcompany\"].max()\n",
    "print (str(min_year_comp),end= \" - \")\n",
    "print(str(max_year_comp),end = \" \")\n",
    "print(\"(tahun)\")"
   ]
  },
  {
   "cell_type": "code",
   "execution_count": 150,
   "metadata": {},
   "outputs": [
    {
     "data": {
      "text/plain": [
       "array([nan, 'Full Stack', 'Distributed Systems (Back-End)', ...,\n",
       "       'Solution Mgt', 'Software Infra', 'Industry Cloud'], dtype=object)"
      ]
     },
     "execution_count": 150,
     "metadata": {},
     "output_type": "execute_result"
    }
   ],
   "source": [
    "data[\"tag\"].unique()"
   ]
  },
  {
   "cell_type": "code",
   "execution_count": 151,
   "metadata": {},
   "outputs": [
    {
     "name": "stdout",
     "output_type": "stream",
     "text": [
      "0.0 - 1659870.0 (USD)\n"
     ]
    }
   ],
   "source": [
    "min_base_salary = data[\"basesalary\"].min()\n",
    "max_base_salary = data[\"basesalary\"].max()\n",
    "print (str(min_base_salary),end= \" - \")\n",
    "print(str(max_base_salary),end = \" \")\n",
    "print(\"(USD)\")"
   ]
  },
  {
   "cell_type": "code",
   "execution_count": 152,
   "metadata": {},
   "outputs": [
    {
     "name": "stdout",
     "output_type": "stream",
     "text": [
      "0.0 - 2800000.0 (USD)\n"
     ]
    }
   ],
   "source": [
    "min_stock_grant = data[\"stockgrantvalue\"].min()\n",
    "max_stock_grant = data[\"stockgrantvalue\"].max()\n",
    "print (str(min_stock_grant),end= \" - \")\n",
    "print(str(max_stock_grant),end = \" \")\n",
    "print(\"(USD)\")"
   ]
  },
  {
   "cell_type": "code",
   "execution_count": 153,
   "metadata": {},
   "outputs": [
    {
     "name": "stdout",
     "output_type": "stream",
     "text": [
      "0.0 - 1000000.0 (USD)\n"
     ]
    }
   ],
   "source": [
    "min_bonus = data[\"bonus\"].min()\n",
    "max_bonus = data[\"bonus\"].max()\n",
    "print (str(min_bonus),end= \" - \")\n",
    "print(str(max_bonus),end = \" \")\n",
    "print(\"(USD)\")"
   ]
  },
  {
   "cell_type": "code",
   "execution_count": 154,
   "metadata": {},
   "outputs": [
    {
     "name": "stdout",
     "output_type": "stream",
     "text": [
      "Data pendidikan terdiri dari:\n",
      " [nan 'PhD' \"Master's Degree\" \"Bachelor's Degree\" 'Some College'\n",
      " 'Highschool']\n",
      "Dengan rincian: \n",
      "Lulusan SMA: 320 orang\n",
      "Magang: 355 orang\n",
      "Lulusan S1: 12605 orang\n",
      "Lulusan S2: 15391 orang\n",
      "Lulusan S3: 1803 orang\n"
     ]
    }
   ],
   "source": [
    "print(\"Data pendidikan terdiri dari:\\n\",data[\"Education\"].unique())\n",
    "print(\"Dengan rincian: \")\n",
    "print(\"Lulusan SMA:\",data[\"Highschool\"].sum(),\"orang\")\n",
    "print(\"Magang:\",data[\"Some_College\"].sum(),\"orang\")\n",
    "print(\"Lulusan S1:\",data[\"Bachelors_Degree\"].sum(),\"orang\")\n",
    "print(\"Lulusan S2:\",data[\"Masters_Degree\"].sum(),\"orang\")\n",
    "print(\"Lulusan S3:\",data[\"Doctorate_Degree\"].sum(),\"orang\")"
   ]
  },
  {
   "cell_type": "code",
   "execution_count": 155,
   "metadata": {},
   "outputs": [
    {
     "name": "stdout",
     "output_type": "stream",
     "text": [
      "Data ras terdiri dari:  [nan 'White' 'Asian' 'Black' 'Two Or More' 'Hispanic']\n",
      "Dengan rincian: \n",
      "Jumlah pekerja ras asia: 11772 orang\n",
      "Jumlah pekerja ras kulit putih: 8032 orang\n",
      "Jumlah pekerja ras kulit hitam: 690 orang\n",
      "Jumlah pekerja ras hispanic: 1130 orang\n",
      "Jumlah pekerja ras campuran: 804 orang\n"
     ]
    }
   ],
   "source": [
    "print(\"Data ras terdiri dari: \",data[\"Race\"].unique())\n",
    "print(\"Dengan rincian: \")\n",
    "print(\"Jumlah pekerja ras asia:\", data[\"Race_Asian\"].sum(),\"orang\")\n",
    "print(\"Jumlah pekerja ras kulit putih:\", data[\"Race_White\"].sum(),\"orang\")\n",
    "print(\"Jumlah pekerja ras kulit hitam:\", data[\"Race_Black\"].sum(),\"orang\")\n",
    "print(\"Jumlah pekerja ras hispanic:\", data[\"Race_Hispanic\"].sum(),\"orang\")\n",
    "print(\"Jumlah pekerja ras campuran:\", data[\"Race_Two_Or_More\"].sum(),\"orang\")"
   ]
  },
  {
   "cell_type": "markdown",
   "metadata": {},
   "source": [
    "## Presentase data kosong \n"
   ]
  },
  {
   "cell_type": "code",
   "execution_count": 156,
   "metadata": {},
   "outputs": [
    {
     "name": "stdout",
     "output_type": "stream",
     "text": [
      "6.36%\n"
     ]
    }
   ],
   "source": [
    "x = (data.isna().sum().sum()/data.size)*100\n",
    "print(\"{:.2f}%\".format(x))"
   ]
  },
  {
   "cell_type": "markdown",
   "metadata": {},
   "source": [
    "### Mengecek null data\n"
   ]
  },
  {
   "cell_type": "code",
   "execution_count": 157,
   "metadata": {},
   "outputs": [
    {
     "data": {
      "text/plain": [
       "timestamp                      0\n",
       "company                        5\n",
       "level                        119\n",
       "title                          0\n",
       "totalyearlycompensation        0\n",
       "location                       0\n",
       "yearsofexperience              0\n",
       "yearsatcompany                 0\n",
       "tag                          854\n",
       "basesalary                     0\n",
       "stockgrantvalue                0\n",
       "bonus                          0\n",
       "gender                     19540\n",
       "otherdetails               22505\n",
       "cityid                         0\n",
       "dmaid                          2\n",
       "rowNumber                      0\n",
       "Masters_Degree                 0\n",
       "Bachelors_Degree               0\n",
       "Doctorate_Degree               0\n",
       "Highschool                     0\n",
       "Some_College                   0\n",
       "Race_Asian                     0\n",
       "Race_White                     0\n",
       "Race_Two_Or_More               0\n",
       "Race_Black                     0\n",
       "Race_Hispanic                  0\n",
       "Race                       40215\n",
       "Education                  32272\n",
       "dtype: int64"
      ]
     },
     "execution_count": 157,
     "metadata": {},
     "output_type": "execute_result"
    }
   ],
   "source": [
    "data.isna().sum()\n",
    "    # mengecek kolom yang mengandung data null\n",
    "    # kolom yang mengandung data null dalam data kita adalah "
   ]
  },
  {
   "cell_type": "code",
   "execution_count": 158,
   "metadata": {},
   "outputs": [
    {
     "name": "stdout",
     "output_type": "stream",
     "text": [
      "Persentase data error kolom company : 0.01%\n",
      "Persentase data error kolom level : 0.19%\n",
      "Persentase data error kolom tag : 1.36%\n",
      "Persentase data error kolom gender : 31.19%\n",
      "Persentase data error kolom otherdetails : 35.93%\n",
      "Persentase data error kolom Race : 64.20%\n",
      "Persentase data error kolom Education : 51.52%\n"
     ]
    }
   ],
   "source": [
    "list_NA_data = [\"company\",\"level\",\"tag\",\"gender\",\"otherdetails\",\"Race\",\"Education\"]\n",
    "for i in list_NA_data:\n",
    "    print(\"Persentase data error kolom\",i,\": {:.2f}%\".format((data[i].isna().sum().sum()/data[i].size)*100))\n",
    "    "
   ]
  },
  {
   "cell_type": "markdown",
   "metadata": {},
   "source": [
    "## Presentase data duplikat\n"
   ]
  },
  {
   "cell_type": "markdown",
   "metadata": {},
   "source": [
    "## Data cleaning and Data Sample\n"
   ]
  }
 ],
 "metadata": {
  "kernelspec": {
   "display_name": "Python 3.10.7 64-bit",
   "language": "python",
   "name": "python3"
  },
  "language_info": {
   "codemirror_mode": {
    "name": "ipython",
    "version": 3
   },
   "file_extension": ".py",
   "mimetype": "text/x-python",
   "name": "python",
   "nbconvert_exporter": "python",
   "pygments_lexer": "ipython3",
   "version": "3.10.7"
  },
  "orig_nbformat": 4,
  "vscode": {
   "interpreter": {
    "hash": "40ed8c2a205e5ff2f7249def3e8c4b768b25c5f3892a2f4884e1613993eabd2c"
   }
  }
 },
 "nbformat": 4,
 "nbformat_minor": 2
}
