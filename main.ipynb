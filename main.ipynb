{
 "cells": [
  {
   "cell_type": "markdown",
   "metadata": {},
   "source": [
    "## Import Library, mengambil, dan membaca data"
   ]
  },
  {
   "cell_type": "code",
   "execution_count": 334,
   "metadata": {},
   "outputs": [
    {
     "data": {
      "text/html": [
       "<div>\n",
       "<style scoped>\n",
       "    .dataframe tbody tr th:only-of-type {\n",
       "        vertical-align: middle;\n",
       "    }\n",
       "\n",
       "    .dataframe tbody tr th {\n",
       "        vertical-align: top;\n",
       "    }\n",
       "\n",
       "    .dataframe thead th {\n",
       "        text-align: right;\n",
       "    }\n",
       "</style>\n",
       "<table border=\"1\" class=\"dataframe\">\n",
       "  <thead>\n",
       "    <tr style=\"text-align: right;\">\n",
       "      <th></th>\n",
       "      <th>timestamp</th>\n",
       "      <th>company</th>\n",
       "      <th>level</th>\n",
       "      <th>title</th>\n",
       "      <th>totalyearlycompensation</th>\n",
       "      <th>location</th>\n",
       "      <th>yearsofexperience</th>\n",
       "      <th>yearsatcompany</th>\n",
       "      <th>tag</th>\n",
       "      <th>basesalary</th>\n",
       "      <th>stockgrantvalue</th>\n",
       "      <th>bonus</th>\n",
       "      <th>gender</th>\n",
       "      <th>otherdetails</th>\n",
       "      <th>cityid</th>\n",
       "      <th>dmaid</th>\n",
       "      <th>rowNumber</th>\n",
       "      <th>Masters_Degree</th>\n",
       "      <th>Bachelors_Degree</th>\n",
       "      <th>Doctorate_Degree</th>\n",
       "      <th>Highschool</th>\n",
       "      <th>Some_College</th>\n",
       "      <th>Race_Asian</th>\n",
       "      <th>Race_White</th>\n",
       "      <th>Race_Two_Or_More</th>\n",
       "      <th>Race_Black</th>\n",
       "      <th>Race_Hispanic</th>\n",
       "      <th>Race</th>\n",
       "      <th>Education</th>\n",
       "    </tr>\n",
       "  </thead>\n",
       "  <tbody>\n",
       "    <tr>\n",
       "      <th>0</th>\n",
       "      <td>6/7/2017 11:33:27</td>\n",
       "      <td>Oracle</td>\n",
       "      <td>L3</td>\n",
       "      <td>Product Manager</td>\n",
       "      <td>127000</td>\n",
       "      <td>Redwood City, CA</td>\n",
       "      <td>1.5</td>\n",
       "      <td>1.5</td>\n",
       "      <td>NaN</td>\n",
       "      <td>107000.0</td>\n",
       "      <td>20000.0</td>\n",
       "      <td>10000.0</td>\n",
       "      <td>NaN</td>\n",
       "      <td>NaN</td>\n",
       "      <td>7392</td>\n",
       "      <td>807.0</td>\n",
       "      <td>1</td>\n",
       "      <td>0</td>\n",
       "      <td>0</td>\n",
       "      <td>0</td>\n",
       "      <td>0</td>\n",
       "      <td>0</td>\n",
       "      <td>0</td>\n",
       "      <td>0</td>\n",
       "      <td>0</td>\n",
       "      <td>0</td>\n",
       "      <td>0</td>\n",
       "      <td>NaN</td>\n",
       "      <td>NaN</td>\n",
       "    </tr>\n",
       "    <tr>\n",
       "      <th>1</th>\n",
       "      <td>6/10/2017 17:11:29</td>\n",
       "      <td>eBay</td>\n",
       "      <td>SE 2</td>\n",
       "      <td>Software Engineer</td>\n",
       "      <td>100000</td>\n",
       "      <td>San Francisco, CA</td>\n",
       "      <td>5.0</td>\n",
       "      <td>3.0</td>\n",
       "      <td>NaN</td>\n",
       "      <td>0.0</td>\n",
       "      <td>0.0</td>\n",
       "      <td>0.0</td>\n",
       "      <td>NaN</td>\n",
       "      <td>NaN</td>\n",
       "      <td>7419</td>\n",
       "      <td>807.0</td>\n",
       "      <td>2</td>\n",
       "      <td>0</td>\n",
       "      <td>0</td>\n",
       "      <td>0</td>\n",
       "      <td>0</td>\n",
       "      <td>0</td>\n",
       "      <td>0</td>\n",
       "      <td>0</td>\n",
       "      <td>0</td>\n",
       "      <td>0</td>\n",
       "      <td>0</td>\n",
       "      <td>NaN</td>\n",
       "      <td>NaN</td>\n",
       "    </tr>\n",
       "    <tr>\n",
       "      <th>2</th>\n",
       "      <td>6/11/2017 14:53:57</td>\n",
       "      <td>Amazon</td>\n",
       "      <td>L7</td>\n",
       "      <td>Product Manager</td>\n",
       "      <td>310000</td>\n",
       "      <td>Seattle, WA</td>\n",
       "      <td>8.0</td>\n",
       "      <td>0.0</td>\n",
       "      <td>NaN</td>\n",
       "      <td>155000.0</td>\n",
       "      <td>0.0</td>\n",
       "      <td>0.0</td>\n",
       "      <td>NaN</td>\n",
       "      <td>NaN</td>\n",
       "      <td>11527</td>\n",
       "      <td>819.0</td>\n",
       "      <td>3</td>\n",
       "      <td>0</td>\n",
       "      <td>0</td>\n",
       "      <td>0</td>\n",
       "      <td>0</td>\n",
       "      <td>0</td>\n",
       "      <td>0</td>\n",
       "      <td>0</td>\n",
       "      <td>0</td>\n",
       "      <td>0</td>\n",
       "      <td>0</td>\n",
       "      <td>NaN</td>\n",
       "      <td>NaN</td>\n",
       "    </tr>\n",
       "    <tr>\n",
       "      <th>3</th>\n",
       "      <td>6/17/2017 0:23:14</td>\n",
       "      <td>Apple</td>\n",
       "      <td>M1</td>\n",
       "      <td>Software Engineering Manager</td>\n",
       "      <td>372000</td>\n",
       "      <td>Sunnyvale, CA</td>\n",
       "      <td>7.0</td>\n",
       "      <td>5.0</td>\n",
       "      <td>NaN</td>\n",
       "      <td>157000.0</td>\n",
       "      <td>180000.0</td>\n",
       "      <td>35000.0</td>\n",
       "      <td>NaN</td>\n",
       "      <td>NaN</td>\n",
       "      <td>7472</td>\n",
       "      <td>807.0</td>\n",
       "      <td>7</td>\n",
       "      <td>0</td>\n",
       "      <td>0</td>\n",
       "      <td>0</td>\n",
       "      <td>0</td>\n",
       "      <td>0</td>\n",
       "      <td>0</td>\n",
       "      <td>0</td>\n",
       "      <td>0</td>\n",
       "      <td>0</td>\n",
       "      <td>0</td>\n",
       "      <td>NaN</td>\n",
       "      <td>NaN</td>\n",
       "    </tr>\n",
       "    <tr>\n",
       "      <th>4</th>\n",
       "      <td>6/20/2017 10:58:51</td>\n",
       "      <td>Microsoft</td>\n",
       "      <td>60</td>\n",
       "      <td>Software Engineer</td>\n",
       "      <td>157000</td>\n",
       "      <td>Mountain View, CA</td>\n",
       "      <td>5.0</td>\n",
       "      <td>3.0</td>\n",
       "      <td>NaN</td>\n",
       "      <td>0.0</td>\n",
       "      <td>0.0</td>\n",
       "      <td>0.0</td>\n",
       "      <td>NaN</td>\n",
       "      <td>NaN</td>\n",
       "      <td>7322</td>\n",
       "      <td>807.0</td>\n",
       "      <td>9</td>\n",
       "      <td>0</td>\n",
       "      <td>0</td>\n",
       "      <td>0</td>\n",
       "      <td>0</td>\n",
       "      <td>0</td>\n",
       "      <td>0</td>\n",
       "      <td>0</td>\n",
       "      <td>0</td>\n",
       "      <td>0</td>\n",
       "      <td>0</td>\n",
       "      <td>NaN</td>\n",
       "      <td>NaN</td>\n",
       "    </tr>\n",
       "    <tr>\n",
       "      <th>...</th>\n",
       "      <td>...</td>\n",
       "      <td>...</td>\n",
       "      <td>...</td>\n",
       "      <td>...</td>\n",
       "      <td>...</td>\n",
       "      <td>...</td>\n",
       "      <td>...</td>\n",
       "      <td>...</td>\n",
       "      <td>...</td>\n",
       "      <td>...</td>\n",
       "      <td>...</td>\n",
       "      <td>...</td>\n",
       "      <td>...</td>\n",
       "      <td>...</td>\n",
       "      <td>...</td>\n",
       "      <td>...</td>\n",
       "      <td>...</td>\n",
       "      <td>...</td>\n",
       "      <td>...</td>\n",
       "      <td>...</td>\n",
       "      <td>...</td>\n",
       "      <td>...</td>\n",
       "      <td>...</td>\n",
       "      <td>...</td>\n",
       "      <td>...</td>\n",
       "      <td>...</td>\n",
       "      <td>...</td>\n",
       "      <td>...</td>\n",
       "      <td>...</td>\n",
       "    </tr>\n",
       "    <tr>\n",
       "      <th>62637</th>\n",
       "      <td>9/9/2018 11:52:32</td>\n",
       "      <td>Google</td>\n",
       "      <td>T4</td>\n",
       "      <td>Software Engineer</td>\n",
       "      <td>327000</td>\n",
       "      <td>Seattle, WA</td>\n",
       "      <td>10.0</td>\n",
       "      <td>1.0</td>\n",
       "      <td>Distributed Systems (Back-End)</td>\n",
       "      <td>155000.0</td>\n",
       "      <td>150000.0</td>\n",
       "      <td>22000.0</td>\n",
       "      <td>NaN</td>\n",
       "      <td>NaN</td>\n",
       "      <td>11527</td>\n",
       "      <td>819.0</td>\n",
       "      <td>1973</td>\n",
       "      <td>0</td>\n",
       "      <td>0</td>\n",
       "      <td>0</td>\n",
       "      <td>0</td>\n",
       "      <td>0</td>\n",
       "      <td>0</td>\n",
       "      <td>0</td>\n",
       "      <td>0</td>\n",
       "      <td>0</td>\n",
       "      <td>0</td>\n",
       "      <td>NaN</td>\n",
       "      <td>NaN</td>\n",
       "    </tr>\n",
       "    <tr>\n",
       "      <th>62638</th>\n",
       "      <td>9/13/2018 8:23:32</td>\n",
       "      <td>Microsoft</td>\n",
       "      <td>62</td>\n",
       "      <td>Software Engineer</td>\n",
       "      <td>237000</td>\n",
       "      <td>Redmond, WA</td>\n",
       "      <td>2.0</td>\n",
       "      <td>2.0</td>\n",
       "      <td>Full Stack</td>\n",
       "      <td>146900.0</td>\n",
       "      <td>73200.0</td>\n",
       "      <td>16000.0</td>\n",
       "      <td>NaN</td>\n",
       "      <td>NaN</td>\n",
       "      <td>11521</td>\n",
       "      <td>819.0</td>\n",
       "      <td>2037</td>\n",
       "      <td>0</td>\n",
       "      <td>0</td>\n",
       "      <td>0</td>\n",
       "      <td>0</td>\n",
       "      <td>0</td>\n",
       "      <td>0</td>\n",
       "      <td>0</td>\n",
       "      <td>0</td>\n",
       "      <td>0</td>\n",
       "      <td>0</td>\n",
       "      <td>NaN</td>\n",
       "      <td>NaN</td>\n",
       "    </tr>\n",
       "    <tr>\n",
       "      <th>62639</th>\n",
       "      <td>9/13/2018 14:35:59</td>\n",
       "      <td>MSFT</td>\n",
       "      <td>63</td>\n",
       "      <td>Software Engineer</td>\n",
       "      <td>220000</td>\n",
       "      <td>Seattle, WA</td>\n",
       "      <td>14.0</td>\n",
       "      <td>12.0</td>\n",
       "      <td>Full Stack</td>\n",
       "      <td>157000.0</td>\n",
       "      <td>25000.0</td>\n",
       "      <td>20000.0</td>\n",
       "      <td>NaN</td>\n",
       "      <td>NaN</td>\n",
       "      <td>11527</td>\n",
       "      <td>819.0</td>\n",
       "      <td>2044</td>\n",
       "      <td>0</td>\n",
       "      <td>0</td>\n",
       "      <td>0</td>\n",
       "      <td>0</td>\n",
       "      <td>0</td>\n",
       "      <td>0</td>\n",
       "      <td>0</td>\n",
       "      <td>0</td>\n",
       "      <td>0</td>\n",
       "      <td>0</td>\n",
       "      <td>NaN</td>\n",
       "      <td>NaN</td>\n",
       "    </tr>\n",
       "    <tr>\n",
       "      <th>62640</th>\n",
       "      <td>9/16/2018 16:10:35</td>\n",
       "      <td>Salesforce</td>\n",
       "      <td>Lead MTS</td>\n",
       "      <td>Software Engineer</td>\n",
       "      <td>280000</td>\n",
       "      <td>San Francisco, CA</td>\n",
       "      <td>8.0</td>\n",
       "      <td>4.0</td>\n",
       "      <td>iOS</td>\n",
       "      <td>194688.0</td>\n",
       "      <td>57000.0</td>\n",
       "      <td>29000.0</td>\n",
       "      <td>NaN</td>\n",
       "      <td>NaN</td>\n",
       "      <td>7419</td>\n",
       "      <td>807.0</td>\n",
       "      <td>2097</td>\n",
       "      <td>0</td>\n",
       "      <td>0</td>\n",
       "      <td>0</td>\n",
       "      <td>0</td>\n",
       "      <td>0</td>\n",
       "      <td>0</td>\n",
       "      <td>0</td>\n",
       "      <td>0</td>\n",
       "      <td>0</td>\n",
       "      <td>0</td>\n",
       "      <td>NaN</td>\n",
       "      <td>NaN</td>\n",
       "    </tr>\n",
       "    <tr>\n",
       "      <th>62641</th>\n",
       "      <td>1/29/2019 5:12:59</td>\n",
       "      <td>apple</td>\n",
       "      <td>ict3</td>\n",
       "      <td>Software Engineer</td>\n",
       "      <td>200000</td>\n",
       "      <td>Sunnyvale, CA</td>\n",
       "      <td>0.0</td>\n",
       "      <td>0.0</td>\n",
       "      <td>ML / AI</td>\n",
       "      <td>155000.0</td>\n",
       "      <td>27000.0</td>\n",
       "      <td>19000.0</td>\n",
       "      <td>Male</td>\n",
       "      <td>NaN</td>\n",
       "      <td>7472</td>\n",
       "      <td>807.0</td>\n",
       "      <td>5424</td>\n",
       "      <td>0</td>\n",
       "      <td>0</td>\n",
       "      <td>0</td>\n",
       "      <td>0</td>\n",
       "      <td>0</td>\n",
       "      <td>0</td>\n",
       "      <td>0</td>\n",
       "      <td>0</td>\n",
       "      <td>0</td>\n",
       "      <td>0</td>\n",
       "      <td>NaN</td>\n",
       "      <td>NaN</td>\n",
       "    </tr>\n",
       "  </tbody>\n",
       "</table>\n",
       "<p>62642 rows × 29 columns</p>\n",
       "</div>"
      ],
      "text/plain": [
       "                timestamp     company     level                         title  \\\n",
       "0       6/7/2017 11:33:27      Oracle        L3               Product Manager   \n",
       "1      6/10/2017 17:11:29        eBay      SE 2             Software Engineer   \n",
       "2      6/11/2017 14:53:57      Amazon        L7               Product Manager   \n",
       "3       6/17/2017 0:23:14       Apple        M1  Software Engineering Manager   \n",
       "4      6/20/2017 10:58:51   Microsoft        60             Software Engineer   \n",
       "...                   ...         ...       ...                           ...   \n",
       "62637   9/9/2018 11:52:32      Google        T4             Software Engineer   \n",
       "62638   9/13/2018 8:23:32   Microsoft        62             Software Engineer   \n",
       "62639  9/13/2018 14:35:59        MSFT        63             Software Engineer   \n",
       "62640  9/16/2018 16:10:35  Salesforce  Lead MTS             Software Engineer   \n",
       "62641   1/29/2019 5:12:59       apple      ict3             Software Engineer   \n",
       "\n",
       "       totalyearlycompensation           location  yearsofexperience  \\\n",
       "0                       127000   Redwood City, CA                1.5   \n",
       "1                       100000  San Francisco, CA                5.0   \n",
       "2                       310000        Seattle, WA                8.0   \n",
       "3                       372000      Sunnyvale, CA                7.0   \n",
       "4                       157000  Mountain View, CA                5.0   \n",
       "...                        ...                ...                ...   \n",
       "62637                   327000        Seattle, WA               10.0   \n",
       "62638                   237000        Redmond, WA                2.0   \n",
       "62639                   220000        Seattle, WA               14.0   \n",
       "62640                   280000  San Francisco, CA                8.0   \n",
       "62641                   200000      Sunnyvale, CA                0.0   \n",
       "\n",
       "       yearsatcompany                             tag  basesalary  \\\n",
       "0                 1.5                             NaN    107000.0   \n",
       "1                 3.0                             NaN         0.0   \n",
       "2                 0.0                             NaN    155000.0   \n",
       "3                 5.0                             NaN    157000.0   \n",
       "4                 3.0                             NaN         0.0   \n",
       "...               ...                             ...         ...   \n",
       "62637             1.0  Distributed Systems (Back-End)    155000.0   \n",
       "62638             2.0                      Full Stack    146900.0   \n",
       "62639            12.0                      Full Stack    157000.0   \n",
       "62640             4.0                             iOS    194688.0   \n",
       "62641             0.0                         ML / AI    155000.0   \n",
       "\n",
       "       stockgrantvalue    bonus gender otherdetails  cityid  dmaid  rowNumber  \\\n",
       "0              20000.0  10000.0    NaN          NaN    7392  807.0          1   \n",
       "1                  0.0      0.0    NaN          NaN    7419  807.0          2   \n",
       "2                  0.0      0.0    NaN          NaN   11527  819.0          3   \n",
       "3             180000.0  35000.0    NaN          NaN    7472  807.0          7   \n",
       "4                  0.0      0.0    NaN          NaN    7322  807.0          9   \n",
       "...                ...      ...    ...          ...     ...    ...        ...   \n",
       "62637         150000.0  22000.0    NaN          NaN   11527  819.0       1973   \n",
       "62638          73200.0  16000.0    NaN          NaN   11521  819.0       2037   \n",
       "62639          25000.0  20000.0    NaN          NaN   11527  819.0       2044   \n",
       "62640          57000.0  29000.0    NaN          NaN    7419  807.0       2097   \n",
       "62641          27000.0  19000.0   Male          NaN    7472  807.0       5424   \n",
       "\n",
       "       Masters_Degree  Bachelors_Degree  Doctorate_Degree  Highschool  \\\n",
       "0                   0                 0                 0           0   \n",
       "1                   0                 0                 0           0   \n",
       "2                   0                 0                 0           0   \n",
       "3                   0                 0                 0           0   \n",
       "4                   0                 0                 0           0   \n",
       "...               ...               ...               ...         ...   \n",
       "62637               0                 0                 0           0   \n",
       "62638               0                 0                 0           0   \n",
       "62639               0                 0                 0           0   \n",
       "62640               0                 0                 0           0   \n",
       "62641               0                 0                 0           0   \n",
       "\n",
       "       Some_College  Race_Asian  Race_White  Race_Two_Or_More  Race_Black  \\\n",
       "0                 0           0           0                 0           0   \n",
       "1                 0           0           0                 0           0   \n",
       "2                 0           0           0                 0           0   \n",
       "3                 0           0           0                 0           0   \n",
       "4                 0           0           0                 0           0   \n",
       "...             ...         ...         ...               ...         ...   \n",
       "62637             0           0           0                 0           0   \n",
       "62638             0           0           0                 0           0   \n",
       "62639             0           0           0                 0           0   \n",
       "62640             0           0           0                 0           0   \n",
       "62641             0           0           0                 0           0   \n",
       "\n",
       "       Race_Hispanic Race Education  \n",
       "0                  0  NaN       NaN  \n",
       "1                  0  NaN       NaN  \n",
       "2                  0  NaN       NaN  \n",
       "3                  0  NaN       NaN  \n",
       "4                  0  NaN       NaN  \n",
       "...              ...  ...       ...  \n",
       "62637              0  NaN       NaN  \n",
       "62638              0  NaN       NaN  \n",
       "62639              0  NaN       NaN  \n",
       "62640              0  NaN       NaN  \n",
       "62641              0  NaN       NaN  \n",
       "\n",
       "[62642 rows x 29 columns]"
      ]
     },
     "execution_count": 334,
     "metadata": {},
     "output_type": "execute_result"
    }
   ],
   "source": [
    "import pandas as pd\n",
    "import matplotlib.pyplot as plt\n",
    "\n",
    "\n",
    "pd.options.mode.chained_assignment = None #mengabaikan saran dari py\n",
    "pd.options.display.max_columns = 40 #memaksimalkan tampilan kolom data sampai 50\n",
    "data = pd.read_csv(\"Levels_Fyi_Salary_Data.csv\")\n",
    "data"
   ]
  },
  {
   "cell_type": "markdown",
   "metadata": {},
   "source": [
    "## Penjelasan data yang digunakan\n",
    "\n",
    "Data yang kami gunakan adalah data mengenai gaji dari perusahaan terbaik dunia. <br>\n",
    "Tujuan kami menggunakan data ini yaitu untuk mengetahui prospek pekerjaan dan gaji mengenai dunia teknologi yang selaras dengan fakultas STEI mengacu pada perusahaan besar global, sehingga diharapkan dapat memahami terkait gaji dan pekerjaan yang sedang banyak kuotanya. <br>\n",
    "Sumber data kami adalah https://www.kaggle.com/datasets/jackogozaly/data-science-and-stem-salaries <br>\n",
    "Data tersebut adalah hasil pengumpulan data oleh kaggle dari https://www.levels.fyi/?compare=Google,Facebook,Microsoft&track=Software%20Engineer . <br>\n",
    "Data yang kami ambil berisi mengenai informasi tingkat pendidikan, kompensasi (gaji pokok, bonus, hibah saham),\\\n",
    "ras pegawai, dan lainnya.\n",
    "format data kita adalah **csv** atau dengan nama lain \"comma seperated values\"\\\n",
    "ukuran filenya adalah 12,544 MB dengan\n",
    "dimensi dan total elemen dari data kita adalah sebagai berikut :"
   ]
  },
  {
   "cell_type": "markdown",
   "metadata": {},
   "source": [
    "### Jumlah Baris dan Kolom"
   ]
  },
  {
   "cell_type": "code",
   "execution_count": 335,
   "metadata": {},
   "outputs": [
    {
     "name": "stdout",
     "output_type": "stream",
     "text": [
      "Jumlah baris: 62642\n",
      "Jumlah kolom: 29\n"
     ]
    }
   ],
   "source": [
    "print(\"Jumlah baris:\", len(data))\n",
    "print(\"Jumlah kolom:\", len(data.columns))\n",
    "    # menampilkan dimensi dari data\n",
    "    # (baris,kolom)"
   ]
  },
  {
   "cell_type": "markdown",
   "metadata": {},
   "source": [
    "### Jumlah Elemen Data"
   ]
  },
  {
   "cell_type": "code",
   "execution_count": 336,
   "metadata": {},
   "outputs": [
    {
     "name": "stdout",
     "output_type": "stream",
     "text": [
      "Total elemen data: 1816618\n"
     ]
    }
   ],
   "source": [
    "print(\"Total elemen data:\", data.size)\n",
    "    # menampilkan total elemen data"
   ]
  },
  {
   "cell_type": "markdown",
   "metadata": {},
   "source": [
    "## Penjelasan atribut/kolom"
   ]
  },
  {
   "cell_type": "markdown",
   "metadata": {},
   "source": [
    "Data kita mengandung kolom-kolom sebagai berikut\n"
   ]
  },
  {
   "cell_type": "code",
   "execution_count": 337,
   "metadata": {},
   "outputs": [
    {
     "name": "stdout",
     "output_type": "stream",
     "text": [
      "Atribut pada kolom:\n",
      " ['timestamp', 'company', 'level', 'title', 'totalyearlycompensation', 'location', 'yearsofexperience', 'yearsatcompany', 'tag', 'basesalary', 'stockgrantvalue', 'bonus', 'gender', 'otherdetails', 'cityid', 'dmaid', 'rowNumber', 'Masters_Degree', 'Bachelors_Degree', 'Doctorate_Degree', 'Highschool', 'Some_College', 'Race_Asian', 'Race_White', 'Race_Two_Or_More', 'Race_Black', 'Race_Hispanic', 'Race', 'Education']\n"
     ]
    }
   ],
   "source": [
    "print(\"Atribut pada kolom:\\n\", data.columns.to_list())"
   ]
  },
  {
   "cell_type": "markdown",
   "metadata": {},
   "source": [
    "Info dari data yang mencakup isi kolom, indeks kolom, null type atribut kolom, dan tipe dari isi kolom, serta jumlah dari tipe data total pada kolom adalah sebagai berikut"
   ]
  },
  {
   "cell_type": "code",
   "execution_count": 338,
   "metadata": {},
   "outputs": [
    {
     "name": "stdout",
     "output_type": "stream",
     "text": [
      "<class 'pandas.core.frame.DataFrame'>\n",
      "RangeIndex: 62642 entries, 0 to 62641\n",
      "Data columns (total 29 columns):\n",
      " #   Column                   Non-Null Count  Dtype  \n",
      "---  ------                   --------------  -----  \n",
      " 0   timestamp                62642 non-null  object \n",
      " 1   company                  62637 non-null  object \n",
      " 2   level                    62523 non-null  object \n",
      " 3   title                    62642 non-null  object \n",
      " 4   totalyearlycompensation  62642 non-null  int64  \n",
      " 5   location                 62642 non-null  object \n",
      " 6   yearsofexperience        62642 non-null  float64\n",
      " 7   yearsatcompany           62642 non-null  float64\n",
      " 8   tag                      61788 non-null  object \n",
      " 9   basesalary               62642 non-null  float64\n",
      " 10  stockgrantvalue          62642 non-null  float64\n",
      " 11  bonus                    62642 non-null  float64\n",
      " 12  gender                   43102 non-null  object \n",
      " 13  otherdetails             40137 non-null  object \n",
      " 14  cityid                   62642 non-null  int64  \n",
      " 15  dmaid                    62640 non-null  float64\n",
      " 16  rowNumber                62642 non-null  int64  \n",
      " 17  Masters_Degree           62642 non-null  int64  \n",
      " 18  Bachelors_Degree         62642 non-null  int64  \n",
      " 19  Doctorate_Degree         62642 non-null  int64  \n",
      " 20  Highschool               62642 non-null  int64  \n",
      " 21  Some_College             62642 non-null  int64  \n",
      " 22  Race_Asian               62642 non-null  int64  \n",
      " 23  Race_White               62642 non-null  int64  \n",
      " 24  Race_Two_Or_More         62642 non-null  int64  \n",
      " 25  Race_Black               62642 non-null  int64  \n",
      " 26  Race_Hispanic            62642 non-null  int64  \n",
      " 27  Race                     22427 non-null  object \n",
      " 28  Education                30370 non-null  object \n",
      "dtypes: float64(6), int64(13), object(10)\n",
      "memory usage: 13.9+ MB\n"
     ]
    }
   ],
   "source": [
    "data.info()"
   ]
  },
  {
   "cell_type": "markdown",
   "metadata": {},
   "source": [
    "Tipe data yang terdapat pada tiap kolom bersifat sebagai berikut :\n",
    "- Categorical - Ordinal (tipe data ordering number) : <br> \n",
    "cityid, rowNumber, dan dmaid \n",
    "\n",
    "- Categorical - Nominal (label variabel tanpa urutan atau nilai kuantitatif): <br>\n",
    "company, level, title, location, tag, gender, otherdetails, Race, dan Education\n",
    "\n",
    "- Quantitative - Continues (data angka yang bersifat kontinu): <br>\n",
    "timestamp\n",
    "\n",
    "- Quantitative - Discrete (data bilangan yang dapat dihitung): <br>\n",
    "totalyearlycompensation, yearsofexperience, yearsatcompany, basesalary, stockgrantvalue, bonus, Masters_Degree, Bachelors_Degree, Doctorate, Highschool, Some_College, Race_Asian, Race_White, Race_Two_Or_More, Race_Black, dan Race_Hispanic\n"
   ]
  },
  {
   "cell_type": "markdown",
   "metadata": {},
   "source": [
    "Karakteristik - karakteristik dan definisi yang terdapat pada kolom adalah sebagai berikut :\n",
    "- timestamp : terdiri dari data angka yang berkaitan dengan tanggal dan jam pengambilan data\n",
    "- totalyearlycompensation : terdiri dari data angka kompensasi atau gaji tahunan dalam USD\n",
    "- yearsofexperience : terdiri dari data angka terkait berapa lama pengalaman terjun dalam profesi yang sama dalam tahun\n",
    "- yearsatcompany : terdiri dari data angka terkait berapa lama menetap pada perusahaan yang sama dalam tahun\n",
    "- basesalary : terdiri dari data angka terkait gaji pokok minimum sebagai imbalan dalam USD\n",
    "- stockgrantvalue : terdiri dari data angka terkait bagian saham yang diperoleh dalam USD\n",
    "- bonus : terdiri dari data angka terkait bonus yang diperoleh dalam USD\n",
    "- rowNumber : berisi data angka nomor baris dari data kotor kaggle\n",
    "- Masters_Degree : berisi data untuk mengidentifikasi lulusan s2 atau bukan\n",
    "- Bachelors_Degree : berisi data angka untuk mengidentifikasi lulusan s1 atau bukan\n",
    "- Doctorate_Degree : berisi data angka untuk mengidentifikasi lulusan s3 atau bukan\n",
    "- Highschool : berisi data angka untuk mengidentifikasi siswa SMA\n",
    "- Some_College : berisi data angka untuk mengidentifikasi termasuk seseorang some college (telah kuliah tetapi mereka tidak menerima gelar apa pun.)\n",
    "- Race_Asian : berisi data untuk mengidentifikasi ras asia\n",
    "- Race_White : berisi data untuk mengidentifikasi ras kulit putih\n",
    "- Race_Two_Or_More : berisi data untuk mengidentifikasi ras campuran\n",
    "- Race_Black : berisi data untuk mengidentifikasi ras kulit hitam\n",
    "- Race_Hispanic : berisi data untuk mengidentifikasi ras kulit hispanik"
   ]
  },
  {
   "cell_type": "markdown",
   "metadata": {},
   "source": [
    "### Menampilkan isi data kategorikal nominal"
   ]
  },
  {
   "cell_type": "markdown",
   "metadata": {},
   "source": [
    "- company : terdiri dari nama-nama perusahaan sebagai berikut"
   ]
  },
  {
   "cell_type": "code",
   "execution_count": 339,
   "metadata": {},
   "outputs": [
    {
     "data": {
      "text/plain": [
       "array(['Oracle', 'eBay', 'Amazon', ..., 'VmWare', 'SalesForce',\n",
       "       'tableau software'], dtype=object)"
      ]
     },
     "execution_count": 339,
     "metadata": {},
     "output_type": "execute_result"
    }
   ],
   "source": [
    "data[\"company\"].unique()"
   ]
  },
  {
   "cell_type": "markdown",
   "metadata": {},
   "source": [
    "- level : terdiri dari tingkat jabatan dalam suatu perusahaan tertentu sebagai berikut"
   ]
  },
  {
   "cell_type": "code",
   "execution_count": 340,
   "metadata": {},
   "outputs": [
    {
     "data": {
      "text/plain": [
       "array(['L3', 'SE 2', 'L7', ..., 'L6 (Staff)', 'Mts 1',\n",
       "       'Bioinformatics Scientist II'], dtype=object)"
      ]
     },
     "execution_count": 340,
     "metadata": {},
     "output_type": "execute_result"
    }
   ],
   "source": [
    "data[\"level\"].unique()"
   ]
  },
  {
   "cell_type": "markdown",
   "metadata": {},
   "source": [
    "- title : terdiri dari title jabatan terkait pekerjaan dalam suatu perusahaan sebagai berikut"
   ]
  },
  {
   "cell_type": "code",
   "execution_count": 341,
   "metadata": {},
   "outputs": [
    {
     "data": {
      "text/plain": [
       "array(['Product Manager', 'Software Engineer',\n",
       "       'Software Engineering Manager', 'Data Scientist',\n",
       "       'Solution Architect', 'Technical Program Manager',\n",
       "       'Human Resources', 'Product Designer', 'Marketing',\n",
       "       'Business Analyst', 'Hardware Engineer', 'Sales', 'Recruiter',\n",
       "       'Mechanical Engineer', 'Management Consultant'], dtype=object)"
      ]
     },
     "execution_count": 341,
     "metadata": {},
     "output_type": "execute_result"
    }
   ],
   "source": [
    "data[\"title\"].unique()"
   ]
  },
  {
   "cell_type": "markdown",
   "metadata": {},
   "source": [
    "- location : berisi lokasi tempat suatu perusahaan tertentu sebagai berikut"
   ]
  },
  {
   "cell_type": "code",
   "execution_count": 342,
   "metadata": {},
   "outputs": [
    {
     "data": {
      "text/plain": [
       "array(['Redwood City, CA', 'San Francisco, CA', 'Seattle, WA', ...,\n",
       "       'Pasir Ris, SG, Singapore', 'Richmond, VA, United States',\n",
       "       'Hilbert, WI'], dtype=object)"
      ]
     },
     "execution_count": 342,
     "metadata": {},
     "output_type": "execute_result"
    }
   ],
   "source": [
    "data[\"location\"].unique()"
   ]
  },
  {
   "cell_type": "markdown",
   "metadata": {},
   "source": [
    "- tag : berisi terkait bidang profesi spesifik yang harus dihadapi sebagai berikut"
   ]
  },
  {
   "cell_type": "code",
   "execution_count": 343,
   "metadata": {},
   "outputs": [
    {
     "data": {
      "text/plain": [
       "array([nan, 'Full Stack', 'Distributed Systems (Back-End)', ...,\n",
       "       'Solution Mgt', 'Software Infra', 'Industry Cloud'], dtype=object)"
      ]
     },
     "execution_count": 343,
     "metadata": {},
     "output_type": "execute_result"
    }
   ],
   "source": [
    "data[\"tag\"].unique()"
   ]
  },
  {
   "cell_type": "markdown",
   "metadata": {},
   "source": [
    "- gender : berisi jenis kelamin seorang pengisi data"
   ]
  },
  {
   "cell_type": "code",
   "execution_count": 344,
   "metadata": {},
   "outputs": [
    {
     "data": {
      "text/plain": [
       "array([nan, 'Male', 'Female', 'Other', 'Title: Senior Software Engineer'],\n",
       "      dtype=object)"
      ]
     },
     "execution_count": 344,
     "metadata": {},
     "output_type": "execute_result"
    }
   ],
   "source": [
    "data[\"gender\"].unique()"
   ]
  },
  {
   "cell_type": "markdown",
   "metadata": {},
   "source": [
    "- otherdetails : berisi keterangan tambahan terkait ketentuan mauapun kesepakatan pekerjaan"
   ]
  },
  {
   "cell_type": "code",
   "execution_count": 345,
   "metadata": {},
   "outputs": [
    {
     "data": {
      "text/plain": [
       "array([nan, 'Tons of overtime', 'PhD', ...,\n",
       "       '40k cash split over 2 years. 75k rsus over 4 years. Bonus is median 10% of base per yr.',\n",
       "       '65k of stocks at 5/15/40/40 vesting schedule per year. First job out of college, only internship experience prior',\n",
       "       'industry hire'], dtype=object)"
      ]
     },
     "execution_count": 345,
     "metadata": {},
     "output_type": "execute_result"
    }
   ],
   "source": [
    "data[\"otherdetails\"].unique()"
   ]
  },
  {
   "cell_type": "markdown",
   "metadata": {},
   "source": [
    "- cityid : berisi data angka terkait kode kota suatu perusahaan berada"
   ]
  },
  {
   "cell_type": "code",
   "execution_count": 346,
   "metadata": {},
   "outputs": [
    {
     "data": {
      "text/plain": [
       "array([ 7392,  7419, 11527, ...,  3799, 16802, 28230], dtype=int64)"
      ]
     },
     "execution_count": 346,
     "metadata": {},
     "output_type": "execute_result"
    }
   ],
   "source": [
    "data[\"cityid\"].unique()"
   ]
  },
  {
   "cell_type": "markdown",
   "metadata": {},
   "source": [
    "- dmaid : berisi data kode designated market area dari perusahaan"
   ]
  },
  {
   "cell_type": "code",
   "execution_count": 347,
   "metadata": {},
   "outputs": [
    {
     "data": {
      "text/plain": [
       "array([807., 819.,   0., 501., 512., 862., 820., 803., 511., 635., 506.,\n",
       "       825., 622., 508., 519., 751., 652., 504., 527., 617., 613., 602.,\n",
       "       532., 753., 752., 623., 556., 669., 628., 566., 515., 560., 528.,\n",
       "       534., 524., 609., 526., 521., 648., 770., 517., 518., 535., 505.,\n",
       "       641., 790., 539., 670., 533., 523., 618., 637., 616., 855., 510.,\n",
       "       563., 757., 659., 625., 691., 705., 576., 811., 679., 541., 544.,\n",
       "       828., 789., 821., 588., 611., 716., 801., 561., 682., 584., 671.,\n",
       "        nan, 564., 502., 640., 678., 581., 642., 514., 598., 643., 567.,\n",
       "       839., 746., 500., 675., 619., 548., 592., 650., 529., 536., 551.,\n",
       "       573., 610., 766., 702., 724., 547., 604., 656., 513., 649., 503.,\n",
       "       687., 530., 686., 555., 571., 538., 693., 651., 744., 634., 525.,\n",
       "       546., 754., 630., 624., 866., 554., 600., 565., 542., 550., 540.,\n",
       "       632., 734., 520., 881., 509., 522., 612., 531., 804., 577., 759.,\n",
       "       516., 673., 574., 537., 760., 698., 658.])"
      ]
     },
     "execution_count": 347,
     "metadata": {},
     "output_type": "execute_result"
    }
   ],
   "source": [
    "data[\"dmaid\"].unique()"
   ]
  },
  {
   "cell_type": "markdown",
   "metadata": {},
   "source": [
    "- Race : berisi data ras pegawai"
   ]
  },
  {
   "cell_type": "code",
   "execution_count": 348,
   "metadata": {},
   "outputs": [
    {
     "data": {
      "text/plain": [
       "array([nan, 'White', 'Asian', 'Black', 'Two Or More', 'Hispanic'],\n",
       "      dtype=object)"
      ]
     },
     "execution_count": 348,
     "metadata": {},
     "output_type": "execute_result"
    }
   ],
   "source": [
    "data[\"Race\"].unique()"
   ]
  },
  {
   "cell_type": "markdown",
   "metadata": {},
   "source": [
    "- Education: berisi data pendidikan terakhir"
   ]
  },
  {
   "cell_type": "code",
   "execution_count": 349,
   "metadata": {},
   "outputs": [
    {
     "data": {
      "text/plain": [
       "array([nan, 'PhD', \"Master's Degree\", \"Bachelor's Degree\", 'Some College',\n",
       "       'Highschool'], dtype=object)"
      ]
     },
     "execution_count": 349,
     "metadata": {},
     "output_type": "execute_result"
    }
   ],
   "source": [
    "data[\"Education\"].unique()"
   ]
  },
  {
   "cell_type": "markdown",
   "metadata": {},
   "source": [
    "### Menampilkan range data numerik"
   ]
  },
  {
   "cell_type": "markdown",
   "metadata": {},
   "source": [
    "- Pengalaman pekerjaan, range datanya :"
   ]
  },
  {
   "cell_type": "code",
   "execution_count": 350,
   "metadata": {},
   "outputs": [
    {
     "name": "stdout",
     "output_type": "stream",
     "text": [
      "Range pengalaman pekerjaan : 0.0 - 69.0 tahun\n"
     ]
    }
   ],
   "source": [
    "min_year_exp = data[\"yearsofexperience\"].min()\n",
    "max_year_exp = data[\"yearsofexperience\"].max()\n",
    "print (\"Range pengalaman pekerjaan : \" + str(min_year_exp) + \" - \" + str(max_year_exp) + \" tahun\")\n"
   ]
  },
  {
   "cell_type": "markdown",
   "metadata": {},
   "source": [
    "- Pengalaman dalam perusahaan yang sama, range datanya :"
   ]
  },
  {
   "cell_type": "code",
   "execution_count": 351,
   "metadata": {},
   "outputs": [
    {
     "name": "stdout",
     "output_type": "stream",
     "text": [
      "Range pengalaman bekerja pada suatu perusahaan: 0.0 - 69.0 tahun\n"
     ]
    }
   ],
   "source": [
    "min_year_comp = data[\"yearsatcompany\"].min()\n",
    "max_year_comp = data[\"yearsatcompany\"].max()\n",
    "print (\"Range pengalaman bekerja pada suatu perusahaan: \" + str(min_year_comp) + \" - \" + str(max_year_comp) + \" tahun\")\n"
   ]
  },
  {
   "cell_type": "markdown",
   "metadata": {},
   "source": [
    "- Kompensasi/gaji per tahun, range datanya :"
   ]
  },
  {
   "cell_type": "code",
   "execution_count": 352,
   "metadata": {},
   "outputs": [
    {
     "name": "stdout",
     "output_type": "stream",
     "text": [
      "Range kompensasi per tahun : 10000 - 4980000 (dalam USD)\n"
     ]
    }
   ],
   "source": [
    "min_year_fee = data[\"totalyearlycompensation\"].min()\n",
    "max_year_fee = data[\"totalyearlycompensation\"].max()\n",
    "print (\"Range kompensasi per tahun : \" + str(min_year_fee) + \" - \" + str(max_year_fee) + \" (dalam USD)\")\n"
   ]
  },
  {
   "cell_type": "markdown",
   "metadata": {},
   "source": [
    "- Gaji pokok : Gaji minimal, range datanya :"
   ]
  },
  {
   "cell_type": "code",
   "execution_count": 353,
   "metadata": {},
   "outputs": [
    {
     "name": "stdout",
     "output_type": "stream",
     "text": [
      "Range gaji pokok per tahun: 0.0 - 1659870.0 (dalam USD)\n"
     ]
    }
   ],
   "source": [
    "min_base_salary = data[\"basesalary\"].min()\n",
    "max_base_salary = data[\"basesalary\"].max()\n",
    "print (\"Range gaji pokok per tahun: \" + str(min_base_salary) + \" - \" + str(max_base_salary) + \" (dalam USD)\")\n"
   ]
  },
  {
   "cell_type": "markdown",
   "metadata": {},
   "source": [
    "- Pemberian saham, range datanya :"
   ]
  },
  {
   "cell_type": "code",
   "execution_count": 354,
   "metadata": {},
   "outputs": [
    {
     "name": "stdout",
     "output_type": "stream",
     "text": [
      "Range pemberian saham per tahun: 0.0 - 2800000.0 (dalam USD)\n"
     ]
    }
   ],
   "source": [
    "min_stock_grant = data[\"stockgrantvalue\"].min()\n",
    "max_stock_grant = data[\"stockgrantvalue\"].max()\n",
    "print (\"Range pemberian saham per tahun: \" + str(min_stock_grant) + \" - \" + str(max_stock_grant) + \" (dalam USD)\")\n"
   ]
  },
  {
   "cell_type": "markdown",
   "metadata": {},
   "source": [
    "- Pemberian bonus, range datanya :"
   ]
  },
  {
   "cell_type": "code",
   "execution_count": 355,
   "metadata": {},
   "outputs": [
    {
     "name": "stdout",
     "output_type": "stream",
     "text": [
      "Range pemberian bonus per tahun: 0.0 - 1000000.0 (dalam USD)\n"
     ]
    }
   ],
   "source": [
    "min_bonus = data[\"bonus\"].min()\n",
    "max_bonus = data[\"bonus\"].max()\n",
    "print (\"Range pemberian bonus per tahun: \" + str(min_bonus) + \" - \" + str(max_bonus) + \" (dalam USD)\")\n"
   ]
  },
  {
   "cell_type": "markdown",
   "metadata": {},
   "source": [
    "- Sebaran Data Ras Pegawai"
   ]
  },
  {
   "cell_type": "code",
   "execution_count": 356,
   "metadata": {},
   "outputs": [
    {
     "name": "stdout",
     "output_type": "stream",
     "text": [
      "Data ras terdiri dari:  [nan, 'White', 'Asian', 'Black', 'Two Or More', 'Hispanic']\n",
      "Dengan rincian: \n",
      "Jumlah pekerja ras asia: 11772 orang\n",
      "Jumlah pekerja ras kulit putih: 8032 orang\n",
      "Jumlah pekerja ras kulit hitam: 690 orang\n",
      "Jumlah pekerja ras hispanic: 1130 orang\n",
      "Jumlah pekerja ras campuran: 804 orang\n"
     ]
    }
   ],
   "source": [
    "print(\"Data ras terdiri dari: \",data[\"Race\"].unique().tolist())\n",
    "print(\"Dengan rincian: \")\n",
    "print(\"Jumlah pekerja ras asia:\", data[\"Race_Asian\"].sum(),\"orang\")\n",
    "print(\"Jumlah pekerja ras kulit putih:\", data[\"Race_White\"].sum(),\"orang\")\n",
    "print(\"Jumlah pekerja ras kulit hitam:\", data[\"Race_Black\"].sum(),\"orang\")\n",
    "print(\"Jumlah pekerja ras hispanic:\", data[\"Race_Hispanic\"].sum(),\"orang\")\n",
    "print(\"Jumlah pekerja ras campuran:\", data[\"Race_Two_Or_More\"].sum(),\"orang\")"
   ]
  },
  {
   "cell_type": "markdown",
   "metadata": {},
   "source": [
    "- Sebaran Data Pendidikan Pegawai"
   ]
  },
  {
   "cell_type": "code",
   "execution_count": 357,
   "metadata": {},
   "outputs": [
    {
     "name": "stdout",
     "output_type": "stream",
     "text": [
      "Data pendidikan terdiri dari:\n",
      " [nan, 'PhD', \"Master's Degree\", \"Bachelor's Degree\", 'Some College', 'Highschool']\n",
      "Dengan rincian: \n",
      "Lulusan SMA: 320 orang\n",
      "Some collage: 355 orang\n",
      "Lulusan S1: 12605 orang\n",
      "Lulusan S2: 15391 orang\n",
      "Lulusan S3: 1803 orang\n"
     ]
    }
   ],
   "source": [
    "print(\"Data pendidikan terdiri dari:\\n\",data[\"Education\"].unique().tolist())\n",
    "print(\"Dengan rincian: \")\n",
    "print(\"Lulusan SMA:\",data[\"Highschool\"].sum(),\"orang\")\n",
    "print(\"Some collage:\",data[\"Some_College\"].sum(),\"orang\")\n",
    "print(\"Lulusan S1:\",data[\"Bachelors_Degree\"].sum(),\"orang\")\n",
    "print(\"Lulusan S2:\",data[\"Masters_Degree\"].sum(),\"orang\")\n",
    "print(\"Lulusan S3:\",data[\"Doctorate_Degree\"].sum(),\"orang\")"
   ]
  },
  {
   "cell_type": "markdown",
   "metadata": {},
   "source": [
    "## Presentase data kosong\n"
   ]
  },
  {
   "cell_type": "code",
   "execution_count": 358,
   "metadata": {},
   "outputs": [
    {
     "name": "stdout",
     "output_type": "stream",
     "text": [
      "Presentase data kosong adalah 6.36%\n"
     ]
    }
   ],
   "source": [
    "x = (data.isna().sum().sum()/data.size)*100\n",
    "print(\"Presentase data kosong adalah \"+\"{:.2f}%\".format(x))"
   ]
  },
  {
   "cell_type": "markdown",
   "metadata": {},
   "source": [
    "### Mengecek data kosong\n"
   ]
  },
  {
   "cell_type": "code",
   "execution_count": 359,
   "metadata": {},
   "outputs": [
    {
     "data": {
      "text/plain": [
       "timestamp                      0\n",
       "company                        5\n",
       "level                        119\n",
       "title                          0\n",
       "totalyearlycompensation        0\n",
       "location                       0\n",
       "yearsofexperience              0\n",
       "yearsatcompany                 0\n",
       "tag                          854\n",
       "basesalary                     0\n",
       "stockgrantvalue                0\n",
       "bonus                          0\n",
       "gender                     19540\n",
       "otherdetails               22505\n",
       "cityid                         0\n",
       "dmaid                          2\n",
       "rowNumber                      0\n",
       "Masters_Degree                 0\n",
       "Bachelors_Degree               0\n",
       "Doctorate_Degree               0\n",
       "Highschool                     0\n",
       "Some_College                   0\n",
       "Race_Asian                     0\n",
       "Race_White                     0\n",
       "Race_Two_Or_More               0\n",
       "Race_Black                     0\n",
       "Race_Hispanic                  0\n",
       "Race                       40215\n",
       "Education                  32272\n",
       "dtype: int64"
      ]
     },
     "execution_count": 359,
     "metadata": {},
     "output_type": "execute_result"
    }
   ],
   "source": [
    "data.isna().sum()\n",
    "    # mengecek kolom yang mengandung data kosong\n",
    "    # kolom yang mengandung data kosong dalam data kami adalah company, level, dmaid, tag, gender,otherdetails, race, dan education "
   ]
  },
  {
   "cell_type": "markdown",
   "metadata": {},
   "source": [
    "### Persentase data kosong pada kolom \n"
   ]
  },
  {
   "cell_type": "code",
   "execution_count": 360,
   "metadata": {},
   "outputs": [
    {
     "name": "stdout",
     "output_type": "stream",
     "text": [
      "Persentase data kosong kolom company : 0.008%\n",
      "Persentase data kosong kolom level : 0.190%\n",
      "Persentase data kosong kolom dmaid : 0.003%\n",
      "Persentase data kosong kolom tag : 1.363%\n",
      "Persentase data kosong kolom gender : 31.193%\n",
      "Persentase data kosong kolom otherdetails : 35.926%\n",
      "Persentase data kosong kolom Race : 64.198%\n",
      "Persentase data kosong kolom Education : 51.518%\n"
     ]
    }
   ],
   "source": [
    "list_NA_data = [\"company\",\"level\",\"dmaid\",\"tag\",\"gender\",\"otherdetails\",\"Race\",\"Education\"]\n",
    "for i in list_NA_data:\n",
    "    print(\"Persentase data kosong kolom\",i,\": {:.3f}%\".format((data[i].isna().sum()/data[i].size)*100))\n",
    "# Persentase darta kosong pada masing-masing kolom"
   ]
  },
  {
   "cell_type": "markdown",
   "metadata": {},
   "source": [
    "### Presentase data duplikat\n"
   ]
  },
  {
   "cell_type": "markdown",
   "metadata": {},
   "source": [
    "Tidak ada data duplikat pada data kami karena tiap orang mungkin memiliki kesamaan pada atribut dalam data kami, yakni kesamaan pekerjaan, perusahaan, gender, pendidikan, ras, dll."
   ]
  },
  {
   "cell_type": "markdown",
   "metadata": {},
   "source": [
    "### Presentase data salah"
   ]
  },
  {
   "cell_type": "code",
   "execution_count": 361,
   "metadata": {},
   "outputs": [],
   "source": [
    "# still thinking"
   ]
  },
  {
   "cell_type": "code",
   "execution_count": 362,
   "metadata": {},
   "outputs": [],
   "source": [
    "import datetime\n",
    "data['Year'] = pd.DatetimeIndex(data['timestamp']).year\n",
    "data['Month'] = pd.DatetimeIndex(data['timestamp']).month\n",
    "data['Day'] = pd.DatetimeIndex(data['timestamp']).day\n",
    "data['Date'] = pd.DatetimeIndex(data['timestamp']).date\n",
    "import calendar\n",
    "data['Month'] = data['Month'].apply(lambda x: calendar.month_abbr[x])\n"
   ]
  },
  {
   "cell_type": "markdown",
   "metadata": {},
   "source": [
    "## Data Checking dan Data Cleaning\n",
    "kolom data kosong dalam data kami adalah company, level, dmaid, tag, gender,otherdetails, race, dan education \n",
    "\n"
   ]
  },
  {
   "cell_type": "markdown",
   "metadata": {},
   "source": [
    "### Prosentase Kekosongan Data Besar\n",
    "- ### <b>Data Education</b> "
   ]
  },
  {
   "cell_type": "markdown",
   "metadata": {},
   "source": [
    "#### Data Checking Education<br> \n",
    "Checking yang kami lakukan:\n",
    "- Mengidentifikasi apakah maksud data dalam spesifik lulusan pendidikan adalah 1 untuk True dan 0 untuk false\n",
    "- Untuk data kosong pada education apakah terdapat data pendidikan pada data spesifik lulusan pendidikan, jika terdapat datanya\n",
    "maka data kosong diisi data pendidikan terakhir pada data spesifik tersebut"
   ]
  },
  {
   "cell_type": "code",
   "execution_count": 363,
   "metadata": {},
   "outputs": [
    {
     "data": {
      "text/html": [
       "<div>\n",
       "<style scoped>\n",
       "    .dataframe tbody tr th:only-of-type {\n",
       "        vertical-align: middle;\n",
       "    }\n",
       "\n",
       "    .dataframe tbody tr th {\n",
       "        vertical-align: top;\n",
       "    }\n",
       "\n",
       "    .dataframe thead th {\n",
       "        text-align: right;\n",
       "    }\n",
       "</style>\n",
       "<table border=\"1\" class=\"dataframe\">\n",
       "  <thead>\n",
       "    <tr style=\"text-align: right;\">\n",
       "      <th></th>\n",
       "      <th>timestamp</th>\n",
       "      <th>company</th>\n",
       "      <th>level</th>\n",
       "      <th>title</th>\n",
       "      <th>totalyearlycompensation</th>\n",
       "      <th>location</th>\n",
       "      <th>yearsofexperience</th>\n",
       "      <th>yearsatcompany</th>\n",
       "      <th>tag</th>\n",
       "      <th>basesalary</th>\n",
       "      <th>stockgrantvalue</th>\n",
       "      <th>bonus</th>\n",
       "      <th>gender</th>\n",
       "      <th>otherdetails</th>\n",
       "      <th>cityid</th>\n",
       "      <th>dmaid</th>\n",
       "      <th>rowNumber</th>\n",
       "      <th>Masters_Degree</th>\n",
       "      <th>Bachelors_Degree</th>\n",
       "      <th>Doctorate_Degree</th>\n",
       "      <th>Highschool</th>\n",
       "      <th>Some_College</th>\n",
       "      <th>Race_Asian</th>\n",
       "      <th>Race_White</th>\n",
       "      <th>Race_Two_Or_More</th>\n",
       "      <th>Race_Black</th>\n",
       "      <th>Race_Hispanic</th>\n",
       "      <th>Race</th>\n",
       "      <th>Education</th>\n",
       "      <th>Year</th>\n",
       "      <th>Month</th>\n",
       "      <th>Day</th>\n",
       "      <th>Date</th>\n",
       "    </tr>\n",
       "  </thead>\n",
       "  <tbody>\n",
       "  </tbody>\n",
       "</table>\n",
       "</div>"
      ],
      "text/plain": [
       "Empty DataFrame\n",
       "Columns: [timestamp, company, level, title, totalyearlycompensation, location, yearsofexperience, yearsatcompany, tag, basesalary, stockgrantvalue, bonus, gender, otherdetails, cityid, dmaid, rowNumber, Masters_Degree, Bachelors_Degree, Doctorate_Degree, Highschool, Some_College, Race_Asian, Race_White, Race_Two_Or_More, Race_Black, Race_Hispanic, Race, Education, Year, Month, Day, Date]\n",
       "Index: []"
      ]
     },
     "execution_count": 363,
     "metadata": {},
     "output_type": "execute_result"
    }
   ],
   "source": [
    "data.loc[(data[\"Masters_Degree\"] != 0) & (data[\"Masters_Degree\"] != 1)]\n",
    "# Ambil sample data lulusan S2 dan cek apakah ada angka selain 1 dan 0"
   ]
  },
  {
   "cell_type": "markdown",
   "metadata": {},
   "source": [
    "Tidak ada data yang ditampilkan, artinya data asumsi awal benar berkaitan bahwa nilai 1 adalah true dan 0 adalah false\n",
    "Maka dari itu agar tidak membingungkan user selanjutnya isi dari kolom tersebut sebaiknya semua data berkaitan dengan pendidikan diganti dengan boolean True or False seperti berikut "
   ]
  },
  {
   "cell_type": "markdown",
   "metadata": {},
   "source": [
    "#### Data Cleaning Education"
   ]
  },
  {
   "cell_type": "markdown",
   "metadata": {},
   "source": [
    "Mengganti nilai tiap kolom pendidikan dari 1 menjadi True dan 0 menjadi False"
   ]
  },
  {
   "cell_type": "code",
   "execution_count": 364,
   "metadata": {},
   "outputs": [],
   "source": [
    "# list_education = [\"Masters_Degree\",\"Bachelors_Degree\",\"Doctorate_Degree\",\"Highschool\",\"Some_College\"]\n",
    "# # Mengganti data 1 menjadi true dan 0 menjadi false\n",
    "# for i in list_NA_data:\n",
    "#     data[list_education] = data[list_education].replace([1],True)\n",
    "#     data[list_education] = data[list_education].replace([0],False)\n"
   ]
  },
  {
   "cell_type": "code",
   "execution_count": 365,
   "metadata": {},
   "outputs": [
    {
     "name": "stdout",
     "output_type": "stream",
     "text": [
      "[0 1]\n",
      "[0 1]\n",
      "[0 1]\n",
      "[0 1]\n",
      "[0 1]\n"
     ]
    }
   ],
   "source": [
    "\n",
    "list_education = [\"Masters_Degree\",\"Bachelors_Degree\",\"Doctorate_Degree\",\"Highschool\",\"Some_College\"]\n",
    "# Menampilkan isi dari kolom data setelah diganti\n",
    "for i in list_education:\n",
    "    print(data[i].unique())\n",
    "# Atribut dari masing-masing kolom adalah True dan False dan tidak ada data selain itu \n",
    "# berarti asumsi awal berkaitan definisi nilai 1 dan 0 adalah benar"
   ]
  },
  {
   "cell_type": "markdown",
   "metadata": {},
   "source": [
    "Namun dalam data pendidikan ini terdapat keanehan yaitu misalnya jika lulusan S2 True maka lulusan S1 False, padahal untuk dapat mencapai pendidikan yang lebih tinggi harus menyelesaikan pendidikan yang lebih rendah dulu, contoh untuk dapat kuliah S2, maka harus mendapat surat rekomendasi lulusan S1, dan untuk dapat kuliah S1 maka harus lulus SMA"
   ]
  },
  {
   "cell_type": "code",
   "execution_count": 366,
   "metadata": {},
   "outputs": [
    {
     "data": {
      "text/html": [
       "<div>\n",
       "<style scoped>\n",
       "    .dataframe tbody tr th:only-of-type {\n",
       "        vertical-align: middle;\n",
       "    }\n",
       "\n",
       "    .dataframe tbody tr th {\n",
       "        vertical-align: top;\n",
       "    }\n",
       "\n",
       "    .dataframe thead th {\n",
       "        text-align: right;\n",
       "    }\n",
       "</style>\n",
       "<table border=\"1\" class=\"dataframe\">\n",
       "  <thead>\n",
       "    <tr style=\"text-align: right;\">\n",
       "      <th></th>\n",
       "      <th>Masters_Degree</th>\n",
       "      <th>Bachelors_Degree</th>\n",
       "      <th>Doctorate_Degree</th>\n",
       "      <th>Highschool</th>\n",
       "      <th>Some_College</th>\n",
       "    </tr>\n",
       "  </thead>\n",
       "  <tbody>\n",
       "    <tr>\n",
       "      <th>12506</th>\n",
       "      <td>1</td>\n",
       "      <td>0</td>\n",
       "      <td>1</td>\n",
       "      <td>0</td>\n",
       "      <td>0</td>\n",
       "    </tr>\n",
       "    <tr>\n",
       "      <th>12512</th>\n",
       "      <td>1</td>\n",
       "      <td>0</td>\n",
       "      <td>0</td>\n",
       "      <td>0</td>\n",
       "      <td>0</td>\n",
       "    </tr>\n",
       "    <tr>\n",
       "      <th>12528</th>\n",
       "      <td>1</td>\n",
       "      <td>0</td>\n",
       "      <td>0</td>\n",
       "      <td>0</td>\n",
       "      <td>0</td>\n",
       "    </tr>\n",
       "    <tr>\n",
       "      <th>12551</th>\n",
       "      <td>1</td>\n",
       "      <td>0</td>\n",
       "      <td>0</td>\n",
       "      <td>0</td>\n",
       "      <td>0</td>\n",
       "    </tr>\n",
       "    <tr>\n",
       "      <th>12558</th>\n",
       "      <td>1</td>\n",
       "      <td>0</td>\n",
       "      <td>0</td>\n",
       "      <td>0</td>\n",
       "      <td>0</td>\n",
       "    </tr>\n",
       "    <tr>\n",
       "      <th>...</th>\n",
       "      <td>...</td>\n",
       "      <td>...</td>\n",
       "      <td>...</td>\n",
       "      <td>...</td>\n",
       "      <td>...</td>\n",
       "    </tr>\n",
       "    <tr>\n",
       "      <th>61683</th>\n",
       "      <td>1</td>\n",
       "      <td>0</td>\n",
       "      <td>0</td>\n",
       "      <td>0</td>\n",
       "      <td>0</td>\n",
       "    </tr>\n",
       "    <tr>\n",
       "      <th>61806</th>\n",
       "      <td>1</td>\n",
       "      <td>0</td>\n",
       "      <td>0</td>\n",
       "      <td>0</td>\n",
       "      <td>0</td>\n",
       "    </tr>\n",
       "    <tr>\n",
       "      <th>61809</th>\n",
       "      <td>1</td>\n",
       "      <td>0</td>\n",
       "      <td>0</td>\n",
       "      <td>0</td>\n",
       "      <td>0</td>\n",
       "    </tr>\n",
       "    <tr>\n",
       "      <th>61810</th>\n",
       "      <td>1</td>\n",
       "      <td>0</td>\n",
       "      <td>0</td>\n",
       "      <td>0</td>\n",
       "      <td>0</td>\n",
       "    </tr>\n",
       "    <tr>\n",
       "      <th>61817</th>\n",
       "      <td>1</td>\n",
       "      <td>0</td>\n",
       "      <td>0</td>\n",
       "      <td>0</td>\n",
       "      <td>0</td>\n",
       "    </tr>\n",
       "  </tbody>\n",
       "</table>\n",
       "<p>2080 rows × 5 columns</p>\n",
       "</div>"
      ],
      "text/plain": [
       "       Masters_Degree  Bachelors_Degree  Doctorate_Degree  Highschool  \\\n",
       "12506               1                 0                 1           0   \n",
       "12512               1                 0                 0           0   \n",
       "12528               1                 0                 0           0   \n",
       "12551               1                 0                 0           0   \n",
       "12558               1                 0                 0           0   \n",
       "...               ...               ...               ...         ...   \n",
       "61683               1                 0                 0           0   \n",
       "61806               1                 0                 0           0   \n",
       "61809               1                 0                 0           0   \n",
       "61810               1                 0                 0           0   \n",
       "61817               1                 0                 0           0   \n",
       "\n",
       "       Some_College  \n",
       "12506             0  \n",
       "12512             0  \n",
       "12528             0  \n",
       "12551             0  \n",
       "12558             0  \n",
       "...             ...  \n",
       "61683             0  \n",
       "61806             0  \n",
       "61809             0  \n",
       "61810             0  \n",
       "61817             0  \n",
       "\n",
       "[2080 rows x 5 columns]"
      ]
     },
     "execution_count": 366,
     "metadata": {},
     "output_type": "execute_result"
    }
   ],
   "source": [
    "# Ambil sampel\n",
    "sample = data.loc[(data[\"Masters_Degree\"]==1) & (data[\"company\"]==\"Amazon\")]\n",
    "sample[[\"Masters_Degree\",\"Bachelors_Degree\",\"Doctorate_Degree\",\"Highschool\",\"Some_College\"]]"
   ]
  },
  {
   "cell_type": "code",
   "execution_count": 367,
   "metadata": {},
   "outputs": [
    {
     "name": "stdout",
     "output_type": "stream",
     "text": [
      "Data pendidikan terdiri dari:\n",
      " [nan, 'PhD', \"Master's Degree\", \"Bachelor's Degree\", 'Some College', 'Highschool']\n",
      "Dengan rincian: \n",
      "Lulusan SMA: 320 orang\n",
      "Some collage: 355 orang\n",
      "Lulusan S1: 12605 orang\n",
      "Lulusan S2: 15391 orang\n",
      "Lulusan S3: 1803 orang\n"
     ]
    }
   ],
   "source": [
    "# Cari erornya \n",
    "# Kalau dia udah s1 brarti udah sma dst\n",
    "# replace data untuk kasus itu\n",
    "\n",
    "high_school = data.loc[(data[\"Masters_Degree\"]==1) | (data[\"Bachelors_Degree\"]==1) | (data[\"Doctorate_Degree\"]==1) | (data[\"Some_College\"]==1)]\n",
    "bachelor = data.loc[(data[\"Masters_Degree\"]==1) | (data[\"Doctorate_Degree\"]==1)]\n",
    "master = data.loc[data[\"Doctorate_Degree\"]==1]\n",
    "# high_school[\"Highschool\"] = high_school[\"Highschool\"].replace(([0], 1))\n",
    "# bachelor[\"Bachelors_Degree\"] = bachelor[\"Bachelors_Degree\"].replace(([0], 1))\n",
    "# master[\"Masters_Degree\"] = master[\"Masters_Degree\"].replace(([0], 1))\n",
    "high_school[\"Highschool\"].fillna(1, inplace=True)\n",
    "# high_school[\"Highschool\"] = high_school[\"Highschool\"].replace([0], 1)\n",
    "# data[\"Bachelors_Degree\"] = bachelor[\"Bachelors_Degree\"].replace([0], 1)\n",
    "# data[\"Masters_Degree\"] = master[\"Masters_Degree\"].replace([0], 1)\n",
    "# data[[\"Masters_Degree\",\"Bachelors_Degree\",\"Doctorate_Degree\",\"Highschool\",\"Some_College\"]]\n",
    "# print(\"Data rincian pendidikan menjadi: \")\n",
    "print(\"Data pendidikan terdiri dari:\\n\",data[\"Education\"].unique().tolist())\n",
    "print(\"Dengan rincian: \")\n",
    "print(\"Lulusan SMA:\",data[\"Highschool\"].sum(),\"orang\")\n",
    "print(\"Some collage:\",data[\"Some_College\"].sum(),\"orang\")\n",
    "print(\"Lulusan S1:\",data[\"Bachelors_Degree\"].sum(),\"orang\")\n",
    "print(\"Lulusan S2:\",data[\"Masters_Degree\"].sum(),\"orang\")\n",
    "print(\"Lulusan S3:\",data[\"Doctorate_Degree\"].sum(),\"orang\")\n",
    "\n",
    "    "
   ]
  },
  {
   "cell_type": "markdown",
   "metadata": {},
   "source": [
    "- ### <b>Data Race</b> "
   ]
  },
  {
   "cell_type": "markdown",
   "metadata": {},
   "source": [
    "#### Data Checking Ras\n",
    "Checking yang kami lakukan :\n",
    "- Mengidentifikasi apakah angka yang dimaksud dalam ras spesifik adalah 1 untuk True dan 0 untuk false\n",
    "- Untuk data kosong pada ras apakah terdapat data ras spesifik, jika terdapat data aras spesifik, maka kekosongan data akan diisi dengan ras spesifik"
   ]
  },
  {
   "cell_type": "code",
   "execution_count": 368,
   "metadata": {},
   "outputs": [
    {
     "data": {
      "text/html": [
       "<div>\n",
       "<style scoped>\n",
       "    .dataframe tbody tr th:only-of-type {\n",
       "        vertical-align: middle;\n",
       "    }\n",
       "\n",
       "    .dataframe tbody tr th {\n",
       "        vertical-align: top;\n",
       "    }\n",
       "\n",
       "    .dataframe thead th {\n",
       "        text-align: right;\n",
       "    }\n",
       "</style>\n",
       "<table border=\"1\" class=\"dataframe\">\n",
       "  <thead>\n",
       "    <tr style=\"text-align: right;\">\n",
       "      <th></th>\n",
       "      <th>timestamp</th>\n",
       "      <th>company</th>\n",
       "      <th>level</th>\n",
       "      <th>title</th>\n",
       "      <th>totalyearlycompensation</th>\n",
       "      <th>location</th>\n",
       "      <th>yearsofexperience</th>\n",
       "      <th>yearsatcompany</th>\n",
       "      <th>tag</th>\n",
       "      <th>basesalary</th>\n",
       "      <th>stockgrantvalue</th>\n",
       "      <th>bonus</th>\n",
       "      <th>gender</th>\n",
       "      <th>otherdetails</th>\n",
       "      <th>cityid</th>\n",
       "      <th>dmaid</th>\n",
       "      <th>rowNumber</th>\n",
       "      <th>Masters_Degree</th>\n",
       "      <th>Bachelors_Degree</th>\n",
       "      <th>Doctorate_Degree</th>\n",
       "      <th>Highschool</th>\n",
       "      <th>Some_College</th>\n",
       "      <th>Race_Asian</th>\n",
       "      <th>Race_White</th>\n",
       "      <th>Race_Two_Or_More</th>\n",
       "      <th>Race_Black</th>\n",
       "      <th>Race_Hispanic</th>\n",
       "      <th>Race</th>\n",
       "      <th>Education</th>\n",
       "      <th>Year</th>\n",
       "      <th>Month</th>\n",
       "      <th>Day</th>\n",
       "      <th>Date</th>\n",
       "    </tr>\n",
       "  </thead>\n",
       "  <tbody>\n",
       "  </tbody>\n",
       "</table>\n",
       "</div>"
      ],
      "text/plain": [
       "Empty DataFrame\n",
       "Columns: [timestamp, company, level, title, totalyearlycompensation, location, yearsofexperience, yearsatcompany, tag, basesalary, stockgrantvalue, bonus, gender, otherdetails, cityid, dmaid, rowNumber, Masters_Degree, Bachelors_Degree, Doctorate_Degree, Highschool, Some_College, Race_Asian, Race_White, Race_Two_Or_More, Race_Black, Race_Hispanic, Race, Education, Year, Month, Day, Date]\n",
       "Index: []"
      ]
     },
     "execution_count": 368,
     "metadata": {},
     "output_type": "execute_result"
    }
   ],
   "source": [
    "data.loc[(data[\"Race_Asian\"] != 0) & (data[\"Race_Asian\"] != 1)]\n",
    "# Ambil sample data ras spesifik dan cek apakah ada angka selain 1 dan 0"
   ]
  },
  {
   "cell_type": "markdown",
   "metadata": {},
   "source": [
    "Tidak ada data yang ditampilkan, artinya data asumsi awal benar berkaitan bahwa nilai 1 adalah true dan 0 adalah false. Maka selanjutnya untuk cleansing data kami mengecek apakah ada nilai pada Race_Asian/Race_White dan ras lainnya sementara pada data nominal ras kosong\n"
   ]
  },
  {
   "cell_type": "code",
   "execution_count": 369,
   "metadata": {},
   "outputs": [
    {
     "data": {
      "text/html": [
       "<div>\n",
       "<style scoped>\n",
       "    .dataframe tbody tr th:only-of-type {\n",
       "        vertical-align: middle;\n",
       "    }\n",
       "\n",
       "    .dataframe tbody tr th {\n",
       "        vertical-align: top;\n",
       "    }\n",
       "\n",
       "    .dataframe thead th {\n",
       "        text-align: right;\n",
       "    }\n",
       "</style>\n",
       "<table border=\"1\" class=\"dataframe\">\n",
       "  <thead>\n",
       "    <tr style=\"text-align: right;\">\n",
       "      <th></th>\n",
       "      <th>timestamp</th>\n",
       "      <th>company</th>\n",
       "      <th>level</th>\n",
       "      <th>title</th>\n",
       "      <th>totalyearlycompensation</th>\n",
       "      <th>location</th>\n",
       "      <th>yearsofexperience</th>\n",
       "      <th>yearsatcompany</th>\n",
       "      <th>tag</th>\n",
       "      <th>basesalary</th>\n",
       "      <th>stockgrantvalue</th>\n",
       "      <th>bonus</th>\n",
       "      <th>gender</th>\n",
       "      <th>otherdetails</th>\n",
       "      <th>cityid</th>\n",
       "      <th>dmaid</th>\n",
       "      <th>rowNumber</th>\n",
       "      <th>Masters_Degree</th>\n",
       "      <th>Bachelors_Degree</th>\n",
       "      <th>Doctorate_Degree</th>\n",
       "      <th>Highschool</th>\n",
       "      <th>Some_College</th>\n",
       "      <th>Race_Asian</th>\n",
       "      <th>Race_White</th>\n",
       "      <th>Race_Two_Or_More</th>\n",
       "      <th>Race_Black</th>\n",
       "      <th>Race_Hispanic</th>\n",
       "      <th>Race</th>\n",
       "      <th>Education</th>\n",
       "      <th>Year</th>\n",
       "      <th>Month</th>\n",
       "      <th>Day</th>\n",
       "      <th>Date</th>\n",
       "    </tr>\n",
       "  </thead>\n",
       "  <tbody>\n",
       "  </tbody>\n",
       "</table>\n",
       "</div>"
      ],
      "text/plain": [
       "Empty DataFrame\n",
       "Columns: [timestamp, company, level, title, totalyearlycompensation, location, yearsofexperience, yearsatcompany, tag, basesalary, stockgrantvalue, bonus, gender, otherdetails, cityid, dmaid, rowNumber, Masters_Degree, Bachelors_Degree, Doctorate_Degree, Highschool, Some_College, Race_Asian, Race_White, Race_Two_Or_More, Race_Black, Race_Hispanic, Race, Education, Year, Month, Day, Date]\n",
       "Index: []"
      ]
     },
     "execution_count": 369,
     "metadata": {},
     "output_type": "execute_result"
    }
   ],
   "source": [
    "data.loc[((data[\"Race_Asian\"]==1) | (data[\"Race_White\"]==1)|(data[\"Race_Black\"]==1)|(data[\"Race_Hispanic\"]==1)|(data[\"Race_Two_Or_More\"]==1)) & data[\"Race\"]==\"NA\"]\n",
    "# Mengecek : apakah ada nilai pada Race_Asian/Race_White dan ras lainnya sementara pada data nominal ras kosong"
   ]
  },
  {
   "cell_type": "markdown",
   "metadata": {},
   "source": [
    "#### Data Cleaning Ras\n"
   ]
  },
  {
   "cell_type": "markdown",
   "metadata": {},
   "source": [
    "Karena kekosongan data murni akibat tidak adanya data, kemudian dengan pertimbangan bahwa persentase kekosongan data tersebut cukup besar 64.20% maka tidak bisa semena-mena dihapus, kami mengambil tindakan untuk dikategorikan ke dalam Unknown Race atau Ras tidak diketahui"
   ]
  },
  {
   "cell_type": "code",
   "execution_count": 370,
   "metadata": {},
   "outputs": [],
   "source": [
    "data[\"Race\"].fillna(\"Unknown Race\", inplace=True)\n",
    "# Mengganti data kosong menjadi unknown race"
   ]
  },
  {
   "cell_type": "code",
   "execution_count": 371,
   "metadata": {},
   "outputs": [
    {
     "name": "stdout",
     "output_type": "stream",
     "text": [
      "Persentase data kosong kolom Ras: 0.00%\n"
     ]
    }
   ],
   "source": [
    "print(\"Persentase data kosong kolom Ras\"+\": {:.2f}%\".format((data[\"Race\"].isna().sum()/data[\"Race\"].size)*100))\n",
    "# Validasi kekosongan data setelah cleaning"
   ]
  },
  {
   "cell_type": "markdown",
   "metadata": {},
   "source": [
    "- ### <b>Data otherdetails</b> \n",
    "#### Data Cleaning otherdetails\n",
    "Data pada otherdetails hanya berkaitan dengan detail tambahan terkait ketentuan dan kesepakatan dalam pekerjaan\n",
    "sehingga atas pertimbangan tersebut dan pertimbangan kekosongan data 35.93% yang cukup besar maka kami mengambil tindakan untuk merubah data kosong menjadi Nothing details atau tidak ada detail tambahan"
   ]
  },
  {
   "cell_type": "code",
   "execution_count": 372,
   "metadata": {},
   "outputs": [],
   "source": [
    "data[\"otherdetails\"].fillna(\"Nothing details\", inplace=True)\n",
    "# Mengganti data kosong menjadi nothing details"
   ]
  },
  {
   "cell_type": "code",
   "execution_count": 373,
   "metadata": {},
   "outputs": [
    {
     "name": "stdout",
     "output_type": "stream",
     "text": [
      "Persentase data kosong kolom otherdetails: 0.000%\n"
     ]
    }
   ],
   "source": [
    "print(\"Persentase data kosong kolom otherdetails\"+\": {:.3f}%\".format((data[\"otherdetails\"].isna().sum()/data[\"otherdetails\"].size)*100))\n",
    "# Validasi kekosongan data setelah cleaning"
   ]
  },
  {
   "cell_type": "markdown",
   "metadata": {},
   "source": [
    "- ### <b>Data gender</b> \n",
    "#### Data Cleaning gender\n",
    "Data pada gender hanya berkaitan dengan jenis kelamin laki-laki atau perempuan. Maka dengan pertimbangan tersebut dan pertimbangan bahwa kekosongan data gender 31.19% yang cukup besar maka kami mengambil tindakan untuk merubah data kosong menjadi don't want to be known atau tidak ingin diketahui karena privasi pribadi"
   ]
  },
  {
   "cell_type": "code",
   "execution_count": 374,
   "metadata": {},
   "outputs": [],
   "source": [
    "data[\"gender\"].fillna(\"Don't want to be known\", inplace=True)\n",
    "# Mengganti data kosong menjadi don't want to be known"
   ]
  },
  {
   "cell_type": "code",
   "execution_count": 375,
   "metadata": {},
   "outputs": [
    {
     "name": "stdout",
     "output_type": "stream",
     "text": [
      "Persentase data kosong kolom gender: 0.000%\n"
     ]
    }
   ],
   "source": [
    "print(\"Persentase data kosong kolom gender\"+\": {:.3f}%\".format((data[\"gender\"].isna().sum()/data[\"gender\"].size)*100))\n",
    "# Validasi kekosongan data setelah cleaning"
   ]
  },
  {
   "cell_type": "markdown",
   "metadata": {},
   "source": [
    "### Prosentase Kekosongan Data Kecil\n",
    "- ### <b>Data company, level, dmaid, dan tag</b> \n",
    "#### Data Cleaning pada data dengan Prosentase Kekosongan Data Kecil\n",
    "Data berkaitan company, level, dmaid, dan tag yang prosentase null data hanya 0.003-1.363% dinilai cukup kecil dan tidak akan terlalu merubah data jika dihapus, maka kami mengambil tindakan untuk menghapus data yang prosentase null datanya kecil"
   ]
  },
  {
   "cell_type": "code",
   "execution_count": 376,
   "metadata": {},
   "outputs": [],
   "source": [
    "data.dropna(subset=['company','level','dmaid','tag'],inplace=True)\n",
    "# Menghapus data yang kosong pada kolom company, level, dmaid, dan tag"
   ]
  },
  {
   "cell_type": "code",
   "execution_count": 377,
   "metadata": {},
   "outputs": [
    {
     "name": "stdout",
     "output_type": "stream",
     "text": [
      "Persentase data kosong kolom company : 0.000%\n",
      "Persentase data kosong kolom level : 0.000%\n",
      "Persentase data kosong kolom dmaid : 0.000%\n",
      "Persentase data kosong kolom tag : 0.000%\n",
      "Persentase data kosong kolom gender : 0.000%\n",
      "Persentase data kosong kolom otherdetails : 0.000%\n",
      "Persentase data kosong kolom Race : 0.000%\n",
      "Persentase data kosong kolom Education : 50.901%\n"
     ]
    }
   ],
   "source": [
    "list_NA_data = [\"company\",\"level\",\"dmaid\",\"tag\",\"gender\",\"otherdetails\",\"Race\",\"Education\"]\n",
    "for i in list_NA_data:\n",
    "    print(\"Persentase data kosong kolom\",i,\": {:.3f}%\".format((data[i].isna().sum()/data[i].size)*100))\n",
    "# Menampilkan validasi hasil cleansing data"
   ]
  },
  {
   "cell_type": "markdown",
   "metadata": {},
   "source": [
    "### Wrong Data\n",
    "- ### <b>Data totalyearlycompensation dan basesalary</b> \n",
    "Data gaji pokok adalah data gaji minimum yang didapatkan pegawai tidak mungkin bernilai 0 apalagi perusahaan terkait termasuk perusahaan yang besar, namun untuk pengalaman bekerja, pengalaman pada perusahaan, bonus, dan pembagian saham masih mungkin bernilai 0 karena bisa jadi baru mulai bekerja dan merupakan pegawai baru\n",
    "#### Data Cleaning pada data wrong data\n",
    "Data berkaitan totalyearlycompensation dan basesalary yang bernilai 0 akan dihapus karena termasuk wrong data"
   ]
  },
  {
   "cell_type": "code",
   "execution_count": 378,
   "metadata": {},
   "outputs": [],
   "source": [
    "for i in data[\"basesalary\"].index:\n",
    "    if data.loc[i, \"basesalary\"] <= 0:\n",
    "        data.drop(i, inplace=True)\n",
    "# Menghapus semua data yang bernilai 0 dan negatif (jika ada)"
   ]
  },
  {
   "cell_type": "code",
   "execution_count": 379,
   "metadata": {},
   "outputs": [
    {
     "name": "stdout",
     "output_type": "stream",
     "text": [
      "Range gaji pokok per tahun: 1000.0 - 1620000.0 (dalam USD)\n"
     ]
    }
   ],
   "source": [
    "min_base_salary = data[\"basesalary\"].min()\n",
    "max_base_salary = data[\"basesalary\"].max()\n",
    "print (\"Range gaji pokok per tahun: \" + str(min_base_salary) + \" - \" + str(max_base_salary) + \" (dalam USD)\")\n",
    "# validasi setelah cleansing data"
   ]
  },
  {
   "cell_type": "markdown",
   "metadata": {},
   "source": [
    "## Mengambil sample 10000 baris di tengah data terurut yang sudah dibersihkan\n",
    "Kami terlebih dahulu mengurutkan data berdasarkan total gaji yang diterima, pengalaman kerja, dan pengalaman pada perusahaan kemudian kami mengambil data tengah dengan jumlah 10000 baris sebagai sampel data mengingat bahwa jumlah baris pada data asli kami sangat banyak yaitu 660000 dan pada banyak perusahaan yang berbeda-beda dan kami mengambil nilai tengahnya agar tidak terjadi simpangan data yang juga semakin jauh\n"
   ]
  },
  {
   "cell_type": "code",
   "execution_count": 380,
   "metadata": {},
   "outputs": [],
   "source": [
    "samples = data.sort_values(by=[\"totalyearlycompensation\",\"yearsofexperience\",\"yearsatcompany\"], ascending=True)\n",
    "samples = samples.iloc[25000:35000].copy()"
   ]
  },
  {
   "cell_type": "code",
   "execution_count": 386,
   "metadata": {},
   "outputs": [
    {
     "data": {
      "text/html": [
       "<div>\n",
       "<style scoped>\n",
       "    .dataframe tbody tr th:only-of-type {\n",
       "        vertical-align: middle;\n",
       "    }\n",
       "\n",
       "    .dataframe tbody tr th {\n",
       "        vertical-align: top;\n",
       "    }\n",
       "\n",
       "    .dataframe thead th {\n",
       "        text-align: right;\n",
       "    }\n",
       "</style>\n",
       "<table border=\"1\" class=\"dataframe\">\n",
       "  <thead>\n",
       "    <tr style=\"text-align: right;\">\n",
       "      <th></th>\n",
       "      <th>timestamp</th>\n",
       "      <th>company</th>\n",
       "      <th>level</th>\n",
       "      <th>title</th>\n",
       "      <th>totalyearlycompensation</th>\n",
       "      <th>location</th>\n",
       "      <th>yearsofexperience</th>\n",
       "      <th>yearsatcompany</th>\n",
       "      <th>tag</th>\n",
       "      <th>basesalary</th>\n",
       "      <th>stockgrantvalue</th>\n",
       "      <th>bonus</th>\n",
       "      <th>gender</th>\n",
       "      <th>otherdetails</th>\n",
       "      <th>cityid</th>\n",
       "      <th>dmaid</th>\n",
       "      <th>rowNumber</th>\n",
       "      <th>Masters_Degree</th>\n",
       "      <th>Bachelors_Degree</th>\n",
       "      <th>Doctorate_Degree</th>\n",
       "      <th>Highschool</th>\n",
       "      <th>Some_College</th>\n",
       "      <th>Race_Asian</th>\n",
       "      <th>Race_White</th>\n",
       "      <th>Race_Two_Or_More</th>\n",
       "      <th>Race_Black</th>\n",
       "      <th>Race_Hispanic</th>\n",
       "      <th>Race</th>\n",
       "      <th>Education</th>\n",
       "      <th>Year</th>\n",
       "      <th>Month</th>\n",
       "      <th>Day</th>\n",
       "      <th>Date</th>\n",
       "    </tr>\n",
       "  </thead>\n",
       "  <tbody>\n",
       "    <tr>\n",
       "      <th>29869</th>\n",
       "      <td>9/14/2020 11:24:16</td>\n",
       "      <td>Juniper Networks</td>\n",
       "      <td>Software Engineer 4</td>\n",
       "      <td>Software Engineer</td>\n",
       "      <td>170000</td>\n",
       "      <td>Sunnyvale, CA</td>\n",
       "      <td>8.0</td>\n",
       "      <td>1.0</td>\n",
       "      <td>Networking</td>\n",
       "      <td>140000.0</td>\n",
       "      <td>10000.0</td>\n",
       "      <td>20000.0</td>\n",
       "      <td>Don't want to be known</td>\n",
       "      <td>Nothing details</td>\n",
       "      <td>7472</td>\n",
       "      <td>807.0</td>\n",
       "      <td>41085</td>\n",
       "      <td>0</td>\n",
       "      <td>0</td>\n",
       "      <td>0</td>\n",
       "      <td>0</td>\n",
       "      <td>0</td>\n",
       "      <td>0</td>\n",
       "      <td>0</td>\n",
       "      <td>0</td>\n",
       "      <td>0</td>\n",
       "      <td>0</td>\n",
       "      <td>Unknown Race</td>\n",
       "      <td>NaN</td>\n",
       "      <td>2020</td>\n",
       "      <td>Sep</td>\n",
       "      <td>14</td>\n",
       "      <td>2020-09-14</td>\n",
       "    </tr>\n",
       "    <tr>\n",
       "      <th>35280</th>\n",
       "      <td>11/15/2020 8:40:51</td>\n",
       "      <td>Facebook</td>\n",
       "      <td>E4</td>\n",
       "      <td>Software Engineer</td>\n",
       "      <td>170000</td>\n",
       "      <td>London, EN, United Kingdom</td>\n",
       "      <td>8.0</td>\n",
       "      <td>1.0</td>\n",
       "      <td>Full Stack</td>\n",
       "      <td>103000.0</td>\n",
       "      <td>50000.0</td>\n",
       "      <td>17000.0</td>\n",
       "      <td>Male</td>\n",
       "      <td>Title: Software Engineer, Race: Asian, Academi...</td>\n",
       "      <td>12008</td>\n",
       "      <td>0.0</td>\n",
       "      <td>48562</td>\n",
       "      <td>1</td>\n",
       "      <td>0</td>\n",
       "      <td>0</td>\n",
       "      <td>0</td>\n",
       "      <td>0</td>\n",
       "      <td>1</td>\n",
       "      <td>0</td>\n",
       "      <td>0</td>\n",
       "      <td>0</td>\n",
       "      <td>0</td>\n",
       "      <td>Asian</td>\n",
       "      <td>Master's Degree</td>\n",
       "      <td>2020</td>\n",
       "      <td>Nov</td>\n",
       "      <td>15</td>\n",
       "      <td>2020-11-15</td>\n",
       "    </tr>\n",
       "    <tr>\n",
       "      <th>49433</th>\n",
       "      <td>4/23/2021 21:59:41</td>\n",
       "      <td>Citi</td>\n",
       "      <td>Vice President</td>\n",
       "      <td>Software Engineer</td>\n",
       "      <td>170000</td>\n",
       "      <td>Dallas, TX</td>\n",
       "      <td>8.0</td>\n",
       "      <td>1.0</td>\n",
       "      <td>Security</td>\n",
       "      <td>162000.0</td>\n",
       "      <td>0.0</td>\n",
       "      <td>8000.0</td>\n",
       "      <td>Male</td>\n",
       "      <td>10k relo bonus (employer paid taxes; $10k was ...</td>\n",
       "      <td>11039</td>\n",
       "      <td>623.0</td>\n",
       "      <td>67175</td>\n",
       "      <td>1</td>\n",
       "      <td>0</td>\n",
       "      <td>0</td>\n",
       "      <td>0</td>\n",
       "      <td>0</td>\n",
       "      <td>0</td>\n",
       "      <td>1</td>\n",
       "      <td>0</td>\n",
       "      <td>0</td>\n",
       "      <td>0</td>\n",
       "      <td>White</td>\n",
       "      <td>Master's Degree</td>\n",
       "      <td>2021</td>\n",
       "      <td>Apr</td>\n",
       "      <td>23</td>\n",
       "      <td>2021-04-23</td>\n",
       "    </tr>\n",
       "    <tr>\n",
       "      <th>6418</th>\n",
       "      <td>5/11/2019 11:20:51</td>\n",
       "      <td>Amazon</td>\n",
       "      <td>SDE II</td>\n",
       "      <td>Software Engineer</td>\n",
       "      <td>170000</td>\n",
       "      <td>Vancouver, BC, Canada</td>\n",
       "      <td>8.0</td>\n",
       "      <td>2.0</td>\n",
       "      <td>API Development (Back-End)</td>\n",
       "      <td>120000.0</td>\n",
       "      <td>30000.0</td>\n",
       "      <td>10000.0</td>\n",
       "      <td>Male</td>\n",
       "      <td>Nothing details</td>\n",
       "      <td>1320</td>\n",
       "      <td>0.0</td>\n",
       "      <td>8616</td>\n",
       "      <td>0</td>\n",
       "      <td>0</td>\n",
       "      <td>0</td>\n",
       "      <td>0</td>\n",
       "      <td>0</td>\n",
       "      <td>0</td>\n",
       "      <td>0</td>\n",
       "      <td>0</td>\n",
       "      <td>0</td>\n",
       "      <td>0</td>\n",
       "      <td>Unknown Race</td>\n",
       "      <td>NaN</td>\n",
       "      <td>2019</td>\n",
       "      <td>May</td>\n",
       "      <td>11</td>\n",
       "      <td>2019-05-11</td>\n",
       "    </tr>\n",
       "    <tr>\n",
       "      <th>30779</th>\n",
       "      <td>9/23/2020 17:59:26</td>\n",
       "      <td>PayPal</td>\n",
       "      <td>L2</td>\n",
       "      <td>Product Designer</td>\n",
       "      <td>170000</td>\n",
       "      <td>San Jose, CA</td>\n",
       "      <td>8.0</td>\n",
       "      <td>2.0</td>\n",
       "      <td>User Experience (UX)</td>\n",
       "      <td>140000.0</td>\n",
       "      <td>20000.0</td>\n",
       "      <td>10000.0</td>\n",
       "      <td>Don't want to be known</td>\n",
       "      <td>Nothing details</td>\n",
       "      <td>7422</td>\n",
       "      <td>807.0</td>\n",
       "      <td>42446</td>\n",
       "      <td>0</td>\n",
       "      <td>0</td>\n",
       "      <td>0</td>\n",
       "      <td>0</td>\n",
       "      <td>0</td>\n",
       "      <td>0</td>\n",
       "      <td>0</td>\n",
       "      <td>0</td>\n",
       "      <td>0</td>\n",
       "      <td>0</td>\n",
       "      <td>Unknown Race</td>\n",
       "      <td>NaN</td>\n",
       "      <td>2020</td>\n",
       "      <td>Sep</td>\n",
       "      <td>23</td>\n",
       "      <td>2020-09-23</td>\n",
       "    </tr>\n",
       "    <tr>\n",
       "      <th>...</th>\n",
       "      <td>...</td>\n",
       "      <td>...</td>\n",
       "      <td>...</td>\n",
       "      <td>...</td>\n",
       "      <td>...</td>\n",
       "      <td>...</td>\n",
       "      <td>...</td>\n",
       "      <td>...</td>\n",
       "      <td>...</td>\n",
       "      <td>...</td>\n",
       "      <td>...</td>\n",
       "      <td>...</td>\n",
       "      <td>...</td>\n",
       "      <td>...</td>\n",
       "      <td>...</td>\n",
       "      <td>...</td>\n",
       "      <td>...</td>\n",
       "      <td>...</td>\n",
       "      <td>...</td>\n",
       "      <td>...</td>\n",
       "      <td>...</td>\n",
       "      <td>...</td>\n",
       "      <td>...</td>\n",
       "      <td>...</td>\n",
       "      <td>...</td>\n",
       "      <td>...</td>\n",
       "      <td>...</td>\n",
       "      <td>...</td>\n",
       "      <td>...</td>\n",
       "      <td>...</td>\n",
       "      <td>...</td>\n",
       "      <td>...</td>\n",
       "      <td>...</td>\n",
       "    </tr>\n",
       "    <tr>\n",
       "      <th>39296</th>\n",
       "      <td>1/13/2021 10:51:51</td>\n",
       "      <td>Citibank</td>\n",
       "      <td>C14</td>\n",
       "      <td>Data Scientist</td>\n",
       "      <td>209000</td>\n",
       "      <td>Atlanta, GA</td>\n",
       "      <td>11.0</td>\n",
       "      <td>11.0</td>\n",
       "      <td>Risk</td>\n",
       "      <td>167000.0</td>\n",
       "      <td>0.0</td>\n",
       "      <td>42000.0</td>\n",
       "      <td>Female</td>\n",
       "      <td>Race: White, Academic Level: Master’s degree</td>\n",
       "      <td>7839</td>\n",
       "      <td>524.0</td>\n",
       "      <td>53987</td>\n",
       "      <td>1</td>\n",
       "      <td>0</td>\n",
       "      <td>0</td>\n",
       "      <td>0</td>\n",
       "      <td>0</td>\n",
       "      <td>0</td>\n",
       "      <td>1</td>\n",
       "      <td>0</td>\n",
       "      <td>0</td>\n",
       "      <td>0</td>\n",
       "      <td>White</td>\n",
       "      <td>Master's Degree</td>\n",
       "      <td>2021</td>\n",
       "      <td>Jan</td>\n",
       "      <td>13</td>\n",
       "      <td>2021-01-13</td>\n",
       "    </tr>\n",
       "    <tr>\n",
       "      <th>15616</th>\n",
       "      <td>1/26/2020 10:41:41</td>\n",
       "      <td>eBay</td>\n",
       "      <td>MTS 1</td>\n",
       "      <td>Software Engineer</td>\n",
       "      <td>209000</td>\n",
       "      <td>Bellevue, WA</td>\n",
       "      <td>12.0</td>\n",
       "      <td>1.0</td>\n",
       "      <td>Full Stack</td>\n",
       "      <td>172000.0</td>\n",
       "      <td>20000.0</td>\n",
       "      <td>17000.0</td>\n",
       "      <td>Male</td>\n",
       "      <td>Masters</td>\n",
       "      <td>11470</td>\n",
       "      <td>819.0</td>\n",
       "      <td>21083</td>\n",
       "      <td>1</td>\n",
       "      <td>0</td>\n",
       "      <td>0</td>\n",
       "      <td>0</td>\n",
       "      <td>0</td>\n",
       "      <td>0</td>\n",
       "      <td>0</td>\n",
       "      <td>0</td>\n",
       "      <td>0</td>\n",
       "      <td>0</td>\n",
       "      <td>Unknown Race</td>\n",
       "      <td>Master's Degree</td>\n",
       "      <td>2020</td>\n",
       "      <td>Jan</td>\n",
       "      <td>26</td>\n",
       "      <td>2020-01-26</td>\n",
       "    </tr>\n",
       "    <tr>\n",
       "      <th>22801</th>\n",
       "      <td>6/19/2020 10:00:29</td>\n",
       "      <td>Tesla</td>\n",
       "      <td>Senior Engineer</td>\n",
       "      <td>Software Engineer</td>\n",
       "      <td>209000</td>\n",
       "      <td>Salt Lake City, UT</td>\n",
       "      <td>12.0</td>\n",
       "      <td>1.0</td>\n",
       "      <td>Distributed Systems (Back-End)</td>\n",
       "      <td>135000.0</td>\n",
       "      <td>44000.0</td>\n",
       "      <td>30000.0</td>\n",
       "      <td>Male</td>\n",
       "      <td>Masters</td>\n",
       "      <td>1180</td>\n",
       "      <td>770.0</td>\n",
       "      <td>31140</td>\n",
       "      <td>1</td>\n",
       "      <td>0</td>\n",
       "      <td>0</td>\n",
       "      <td>0</td>\n",
       "      <td>0</td>\n",
       "      <td>0</td>\n",
       "      <td>0</td>\n",
       "      <td>0</td>\n",
       "      <td>0</td>\n",
       "      <td>0</td>\n",
       "      <td>Unknown Race</td>\n",
       "      <td>Master's Degree</td>\n",
       "      <td>2020</td>\n",
       "      <td>Jun</td>\n",
       "      <td>19</td>\n",
       "      <td>2020-06-19</td>\n",
       "    </tr>\n",
       "    <tr>\n",
       "      <th>52958</th>\n",
       "      <td>5/31/2021 14:52:03</td>\n",
       "      <td>Apple</td>\n",
       "      <td>ICT4</td>\n",
       "      <td>Hardware Engineer</td>\n",
       "      <td>209000</td>\n",
       "      <td>Swindon, EN, United Kingdom</td>\n",
       "      <td>12.0</td>\n",
       "      <td>6.0</td>\n",
       "      <td>Analog</td>\n",
       "      <td>114000.0</td>\n",
       "      <td>80000.0</td>\n",
       "      <td>15000.0</td>\n",
       "      <td>Don't want to be known</td>\n",
       "      <td>Title: Asic Design Engineer</td>\n",
       "      <td>12853</td>\n",
       "      <td>0.0</td>\n",
       "      <td>71794</td>\n",
       "      <td>0</td>\n",
       "      <td>0</td>\n",
       "      <td>0</td>\n",
       "      <td>0</td>\n",
       "      <td>0</td>\n",
       "      <td>0</td>\n",
       "      <td>0</td>\n",
       "      <td>0</td>\n",
       "      <td>0</td>\n",
       "      <td>0</td>\n",
       "      <td>Unknown Race</td>\n",
       "      <td>NaN</td>\n",
       "      <td>2021</td>\n",
       "      <td>May</td>\n",
       "      <td>31</td>\n",
       "      <td>2021-05-31</td>\n",
       "    </tr>\n",
       "    <tr>\n",
       "      <th>49069</th>\n",
       "      <td>4/21/2021 12:07:27</td>\n",
       "      <td>Rally Health</td>\n",
       "      <td>Senior Software Engineer 2</td>\n",
       "      <td>Software Engineer</td>\n",
       "      <td>209000</td>\n",
       "      <td>Minneapolis, MN</td>\n",
       "      <td>13.0</td>\n",
       "      <td>2.0</td>\n",
       "      <td>Data</td>\n",
       "      <td>172000.0</td>\n",
       "      <td>20000.0</td>\n",
       "      <td>17000.0</td>\n",
       "      <td>Male</td>\n",
       "      <td>Title: Senior Software Engineer 2, Data, Race:...</td>\n",
       "      <td>9194</td>\n",
       "      <td>613.0</td>\n",
       "      <td>66711</td>\n",
       "      <td>0</td>\n",
       "      <td>1</td>\n",
       "      <td>0</td>\n",
       "      <td>0</td>\n",
       "      <td>0</td>\n",
       "      <td>0</td>\n",
       "      <td>1</td>\n",
       "      <td>0</td>\n",
       "      <td>0</td>\n",
       "      <td>0</td>\n",
       "      <td>White</td>\n",
       "      <td>Bachelor's Degree</td>\n",
       "      <td>2021</td>\n",
       "      <td>Apr</td>\n",
       "      <td>21</td>\n",
       "      <td>2021-04-21</td>\n",
       "    </tr>\n",
       "  </tbody>\n",
       "</table>\n",
       "<p>10000 rows × 33 columns</p>\n",
       "</div>"
      ],
      "text/plain": [
       "                timestamp           company                       level  \\\n",
       "29869  9/14/2020 11:24:16  Juniper Networks         Software Engineer 4   \n",
       "35280  11/15/2020 8:40:51          Facebook                          E4   \n",
       "49433  4/23/2021 21:59:41              Citi              Vice President   \n",
       "6418   5/11/2019 11:20:51            Amazon                      SDE II   \n",
       "30779  9/23/2020 17:59:26            PayPal                          L2   \n",
       "...                   ...               ...                         ...   \n",
       "39296  1/13/2021 10:51:51          Citibank                         C14   \n",
       "15616  1/26/2020 10:41:41              eBay                       MTS 1   \n",
       "22801  6/19/2020 10:00:29             Tesla             Senior Engineer   \n",
       "52958  5/31/2021 14:52:03             Apple                        ICT4   \n",
       "49069  4/21/2021 12:07:27      Rally Health  Senior Software Engineer 2   \n",
       "\n",
       "                   title  totalyearlycompensation  \\\n",
       "29869  Software Engineer                   170000   \n",
       "35280  Software Engineer                   170000   \n",
       "49433  Software Engineer                   170000   \n",
       "6418   Software Engineer                   170000   \n",
       "30779   Product Designer                   170000   \n",
       "...                  ...                      ...   \n",
       "39296     Data Scientist                   209000   \n",
       "15616  Software Engineer                   209000   \n",
       "22801  Software Engineer                   209000   \n",
       "52958  Hardware Engineer                   209000   \n",
       "49069  Software Engineer                   209000   \n",
       "\n",
       "                          location  yearsofexperience  yearsatcompany  \\\n",
       "29869                Sunnyvale, CA                8.0             1.0   \n",
       "35280   London, EN, United Kingdom                8.0             1.0   \n",
       "49433                   Dallas, TX                8.0             1.0   \n",
       "6418         Vancouver, BC, Canada                8.0             2.0   \n",
       "30779                 San Jose, CA                8.0             2.0   \n",
       "...                            ...                ...             ...   \n",
       "39296                  Atlanta, GA               11.0            11.0   \n",
       "15616                 Bellevue, WA               12.0             1.0   \n",
       "22801           Salt Lake City, UT               12.0             1.0   \n",
       "52958  Swindon, EN, United Kingdom               12.0             6.0   \n",
       "49069              Minneapolis, MN               13.0             2.0   \n",
       "\n",
       "                                  tag  basesalary  stockgrantvalue    bonus  \\\n",
       "29869                      Networking    140000.0          10000.0  20000.0   \n",
       "35280                      Full Stack    103000.0          50000.0  17000.0   \n",
       "49433                        Security    162000.0              0.0   8000.0   \n",
       "6418       API Development (Back-End)    120000.0          30000.0  10000.0   \n",
       "30779            User Experience (UX)    140000.0          20000.0  10000.0   \n",
       "...                               ...         ...              ...      ...   \n",
       "39296                            Risk    167000.0              0.0  42000.0   \n",
       "15616                      Full Stack    172000.0          20000.0  17000.0   \n",
       "22801  Distributed Systems (Back-End)    135000.0          44000.0  30000.0   \n",
       "52958                          Analog    114000.0          80000.0  15000.0   \n",
       "49069                            Data    172000.0          20000.0  17000.0   \n",
       "\n",
       "                       gender  \\\n",
       "29869  Don't want to be known   \n",
       "35280                    Male   \n",
       "49433                    Male   \n",
       "6418                     Male   \n",
       "30779  Don't want to be known   \n",
       "...                       ...   \n",
       "39296                  Female   \n",
       "15616                    Male   \n",
       "22801                    Male   \n",
       "52958  Don't want to be known   \n",
       "49069                    Male   \n",
       "\n",
       "                                            otherdetails  cityid  dmaid  \\\n",
       "29869                                    Nothing details    7472  807.0   \n",
       "35280  Title: Software Engineer, Race: Asian, Academi...   12008    0.0   \n",
       "49433  10k relo bonus (employer paid taxes; $10k was ...   11039  623.0   \n",
       "6418                                     Nothing details    1320    0.0   \n",
       "30779                                    Nothing details    7422  807.0   \n",
       "...                                                  ...     ...    ...   \n",
       "39296       Race: White, Academic Level: Master’s degree    7839  524.0   \n",
       "15616                                            Masters   11470  819.0   \n",
       "22801                                            Masters    1180  770.0   \n",
       "52958                        Title: Asic Design Engineer   12853    0.0   \n",
       "49069  Title: Senior Software Engineer 2, Data, Race:...    9194  613.0   \n",
       "\n",
       "       rowNumber  Masters_Degree  Bachelors_Degree  Doctorate_Degree  \\\n",
       "29869      41085               0                 0                 0   \n",
       "35280      48562               1                 0                 0   \n",
       "49433      67175               1                 0                 0   \n",
       "6418        8616               0                 0                 0   \n",
       "30779      42446               0                 0                 0   \n",
       "...          ...             ...               ...               ...   \n",
       "39296      53987               1                 0                 0   \n",
       "15616      21083               1                 0                 0   \n",
       "22801      31140               1                 0                 0   \n",
       "52958      71794               0                 0                 0   \n",
       "49069      66711               0                 1                 0   \n",
       "\n",
       "       Highschool  Some_College  Race_Asian  Race_White  Race_Two_Or_More  \\\n",
       "29869           0             0           0           0                 0   \n",
       "35280           0             0           1           0                 0   \n",
       "49433           0             0           0           1                 0   \n",
       "6418            0             0           0           0                 0   \n",
       "30779           0             0           0           0                 0   \n",
       "...           ...           ...         ...         ...               ...   \n",
       "39296           0             0           0           1                 0   \n",
       "15616           0             0           0           0                 0   \n",
       "22801           0             0           0           0                 0   \n",
       "52958           0             0           0           0                 0   \n",
       "49069           0             0           0           1                 0   \n",
       "\n",
       "       Race_Black  Race_Hispanic          Race          Education  Year Month  \\\n",
       "29869           0              0  Unknown Race                NaN  2020   Sep   \n",
       "35280           0              0         Asian    Master's Degree  2020   Nov   \n",
       "49433           0              0         White    Master's Degree  2021   Apr   \n",
       "6418            0              0  Unknown Race                NaN  2019   May   \n",
       "30779           0              0  Unknown Race                NaN  2020   Sep   \n",
       "...           ...            ...           ...                ...   ...   ...   \n",
       "39296           0              0         White    Master's Degree  2021   Jan   \n",
       "15616           0              0  Unknown Race    Master's Degree  2020   Jan   \n",
       "22801           0              0  Unknown Race    Master's Degree  2020   Jun   \n",
       "52958           0              0  Unknown Race                NaN  2021   May   \n",
       "49069           0              0         White  Bachelor's Degree  2021   Apr   \n",
       "\n",
       "       Day        Date  \n",
       "29869   14  2020-09-14  \n",
       "35280   15  2020-11-15  \n",
       "49433   23  2021-04-23  \n",
       "6418    11  2019-05-11  \n",
       "30779   23  2020-09-23  \n",
       "...    ...         ...  \n",
       "39296   13  2021-01-13  \n",
       "15616   26  2020-01-26  \n",
       "22801   19  2020-06-19  \n",
       "52958   31  2021-05-31  \n",
       "49069   21  2021-04-21  \n",
       "\n",
       "[10000 rows x 33 columns]"
      ]
     },
     "execution_count": 386,
     "metadata": {},
     "output_type": "execute_result"
    }
   ],
   "source": [
    "samples"
   ]
  },
  {
   "cell_type": "markdown",
   "metadata": {},
   "source": [
    "# Statistik pada sample\n"
   ]
  },
  {
   "cell_type": "code",
   "execution_count": 382,
   "metadata": {},
   "outputs": [
    {
     "data": {
      "text/html": [
       "<div>\n",
       "<style scoped>\n",
       "    .dataframe tbody tr th:only-of-type {\n",
       "        vertical-align: middle;\n",
       "    }\n",
       "\n",
       "    .dataframe tbody tr th {\n",
       "        vertical-align: top;\n",
       "    }\n",
       "\n",
       "    .dataframe thead th {\n",
       "        text-align: right;\n",
       "    }\n",
       "</style>\n",
       "<table border=\"1\" class=\"dataframe\">\n",
       "  <thead>\n",
       "    <tr style=\"text-align: right;\">\n",
       "      <th></th>\n",
       "      <th>totalyearlycompensation</th>\n",
       "      <th>yearsofexperience</th>\n",
       "      <th>yearsatcompany</th>\n",
       "      <th>basesalary</th>\n",
       "      <th>stockgrantvalue</th>\n",
       "      <th>bonus</th>\n",
       "      <th>Masters_Degree</th>\n",
       "      <th>Bachelors_Degree</th>\n",
       "      <th>Doctorate_Degree</th>\n",
       "      <th>Highschool</th>\n",
       "      <th>Some_College</th>\n",
       "      <th>Race_Asian</th>\n",
       "      <th>Race_White</th>\n",
       "      <th>Race_Black</th>\n",
       "      <th>Race_Hispanic</th>\n",
       "      <th>Race_Two_Or_More</th>\n",
       "    </tr>\n",
       "  </thead>\n",
       "  <tbody>\n",
       "    <tr>\n",
       "      <th>count</th>\n",
       "      <td>10,000.0000</td>\n",
       "      <td>10,000.0000</td>\n",
       "      <td>10,000.0000</td>\n",
       "      <td>10,000.0000</td>\n",
       "      <td>10,000.0000</td>\n",
       "      <td>10,000.0000</td>\n",
       "      <td>10,000.0000</td>\n",
       "      <td>10,000.0000</td>\n",
       "      <td>10,000.0000</td>\n",
       "      <td>10,000.0000</td>\n",
       "      <td>10,000.0000</td>\n",
       "      <td>10,000.0000</td>\n",
       "      <td>10,000.0000</td>\n",
       "      <td>10,000.0000</td>\n",
       "      <td>10,000.0000</td>\n",
       "      <td>10,000.0000</td>\n",
       "    </tr>\n",
       "    <tr>\n",
       "      <th>mean</th>\n",
       "      <td>188,709.5500</td>\n",
       "      <td>6.3452</td>\n",
       "      <td>2.4962</td>\n",
       "      <td>143,541.5642</td>\n",
       "      <td>27,987.6998</td>\n",
       "      <td>17,413.1409</td>\n",
       "      <td>0.2797</td>\n",
       "      <td>0.1819</td>\n",
       "      <td>0.0269</td>\n",
       "      <td>0.0042</td>\n",
       "      <td>0.0047</td>\n",
       "      <td>0.1919</td>\n",
       "      <td>0.1234</td>\n",
       "      <td>0.0111</td>\n",
       "      <td>0.0166</td>\n",
       "      <td>0.0135</td>\n",
       "    </tr>\n",
       "    <tr>\n",
       "      <th>std</th>\n",
       "      <td>10,889.8357</td>\n",
       "      <td>5.4013</td>\n",
       "      <td>3.1295</td>\n",
       "      <td>18,293.7071</td>\n",
       "      <td>21,316.9168</td>\n",
       "      <td>12,931.5980</td>\n",
       "      <td>0.4489</td>\n",
       "      <td>0.3858</td>\n",
       "      <td>0.1618</td>\n",
       "      <td>0.0647</td>\n",
       "      <td>0.0684</td>\n",
       "      <td>0.3938</td>\n",
       "      <td>0.3289</td>\n",
       "      <td>0.1048</td>\n",
       "      <td>0.1278</td>\n",
       "      <td>0.1154</td>\n",
       "    </tr>\n",
       "    <tr>\n",
       "      <th>min</th>\n",
       "      <td>170,000.0000</td>\n",
       "      <td>0.0000</td>\n",
       "      <td>0.0000</td>\n",
       "      <td>55,000.0000</td>\n",
       "      <td>0.0000</td>\n",
       "      <td>0.0000</td>\n",
       "      <td>0.0000</td>\n",
       "      <td>0.0000</td>\n",
       "      <td>0.0000</td>\n",
       "      <td>0.0000</td>\n",
       "      <td>0.0000</td>\n",
       "      <td>0.0000</td>\n",
       "      <td>0.0000</td>\n",
       "      <td>0.0000</td>\n",
       "      <td>0.0000</td>\n",
       "      <td>0.0000</td>\n",
       "    </tr>\n",
       "    <tr>\n",
       "      <th>10%</th>\n",
       "      <td>175,000.0000</td>\n",
       "      <td>1.0000</td>\n",
       "      <td>0.0000</td>\n",
       "      <td>121,000.0000</td>\n",
       "      <td>0.0000</td>\n",
       "      <td>0.0000</td>\n",
       "      <td>0.0000</td>\n",
       "      <td>0.0000</td>\n",
       "      <td>0.0000</td>\n",
       "      <td>0.0000</td>\n",
       "      <td>0.0000</td>\n",
       "      <td>0.0000</td>\n",
       "      <td>0.0000</td>\n",
       "      <td>0.0000</td>\n",
       "      <td>0.0000</td>\n",
       "      <td>0.0000</td>\n",
       "    </tr>\n",
       "    <tr>\n",
       "      <th>25%</th>\n",
       "      <td>180,000.0000</td>\n",
       "      <td>2.0000</td>\n",
       "      <td>0.0000</td>\n",
       "      <td>132,000.0000</td>\n",
       "      <td>13,000.0000</td>\n",
       "      <td>10,000.0000</td>\n",
       "      <td>0.0000</td>\n",
       "      <td>0.0000</td>\n",
       "      <td>0.0000</td>\n",
       "      <td>0.0000</td>\n",
       "      <td>0.0000</td>\n",
       "      <td>0.0000</td>\n",
       "      <td>0.0000</td>\n",
       "      <td>0.0000</td>\n",
       "      <td>0.0000</td>\n",
       "      <td>0.0000</td>\n",
       "    </tr>\n",
       "    <tr>\n",
       "      <th>50%</th>\n",
       "      <td>189,000.0000</td>\n",
       "      <td>5.0000</td>\n",
       "      <td>2.0000</td>\n",
       "      <td>143,000.0000</td>\n",
       "      <td>25,000.0000</td>\n",
       "      <td>17,000.0000</td>\n",
       "      <td>0.0000</td>\n",
       "      <td>0.0000</td>\n",
       "      <td>0.0000</td>\n",
       "      <td>0.0000</td>\n",
       "      <td>0.0000</td>\n",
       "      <td>0.0000</td>\n",
       "      <td>0.0000</td>\n",
       "      <td>0.0000</td>\n",
       "      <td>0.0000</td>\n",
       "      <td>0.0000</td>\n",
       "    </tr>\n",
       "    <tr>\n",
       "      <th>75%</th>\n",
       "      <td>200,000.0000</td>\n",
       "      <td>9.0000</td>\n",
       "      <td>3.0000</td>\n",
       "      <td>155,000.0000</td>\n",
       "      <td>40,000.0000</td>\n",
       "      <td>24,000.0000</td>\n",
       "      <td>1.0000</td>\n",
       "      <td>0.0000</td>\n",
       "      <td>0.0000</td>\n",
       "      <td>0.0000</td>\n",
       "      <td>0.0000</td>\n",
       "      <td>0.0000</td>\n",
       "      <td>0.0000</td>\n",
       "      <td>0.0000</td>\n",
       "      <td>0.0000</td>\n",
       "      <td>0.0000</td>\n",
       "    </tr>\n",
       "    <tr>\n",
       "      <th>90%</th>\n",
       "      <td>204,000.0000</td>\n",
       "      <td>14.0000</td>\n",
       "      <td>6.0000</td>\n",
       "      <td>166,000.0000</td>\n",
       "      <td>54,000.0000</td>\n",
       "      <td>32,000.0000</td>\n",
       "      <td>1.0000</td>\n",
       "      <td>1.0000</td>\n",
       "      <td>0.0000</td>\n",
       "      <td>0.0000</td>\n",
       "      <td>0.0000</td>\n",
       "      <td>1.0000</td>\n",
       "      <td>1.0000</td>\n",
       "      <td>0.0000</td>\n",
       "      <td>0.0000</td>\n",
       "      <td>0.0000</td>\n",
       "    </tr>\n",
       "    <tr>\n",
       "      <th>max</th>\n",
       "      <td>209,000.0000</td>\n",
       "      <td>41.0000</td>\n",
       "      <td>25.0000</td>\n",
       "      <td>208,000.0000</td>\n",
       "      <td>450,000.0000</td>\n",
       "      <td>110,000.0000</td>\n",
       "      <td>1.0000</td>\n",
       "      <td>1.0000</td>\n",
       "      <td>1.0000</td>\n",
       "      <td>1.0000</td>\n",
       "      <td>1.0000</td>\n",
       "      <td>1.0000</td>\n",
       "      <td>1.0000</td>\n",
       "      <td>1.0000</td>\n",
       "      <td>1.0000</td>\n",
       "      <td>1.0000</td>\n",
       "    </tr>\n",
       "  </tbody>\n",
       "</table>\n",
       "</div>"
      ],
      "text/plain": [
       "      totalyearlycompensation yearsofexperience yearsatcompany    basesalary  \\\n",
       "count             10,000.0000       10,000.0000    10,000.0000   10,000.0000   \n",
       "mean             188,709.5500            6.3452         2.4962  143,541.5642   \n",
       "std               10,889.8357            5.4013         3.1295   18,293.7071   \n",
       "min              170,000.0000            0.0000         0.0000   55,000.0000   \n",
       "10%              175,000.0000            1.0000         0.0000  121,000.0000   \n",
       "25%              180,000.0000            2.0000         0.0000  132,000.0000   \n",
       "50%              189,000.0000            5.0000         2.0000  143,000.0000   \n",
       "75%              200,000.0000            9.0000         3.0000  155,000.0000   \n",
       "90%              204,000.0000           14.0000         6.0000  166,000.0000   \n",
       "max              209,000.0000           41.0000        25.0000  208,000.0000   \n",
       "\n",
       "      stockgrantvalue         bonus Masters_Degree Bachelors_Degree  \\\n",
       "count     10,000.0000   10,000.0000    10,000.0000      10,000.0000   \n",
       "mean      27,987.6998   17,413.1409         0.2797           0.1819   \n",
       "std       21,316.9168   12,931.5980         0.4489           0.3858   \n",
       "min            0.0000        0.0000         0.0000           0.0000   \n",
       "10%            0.0000        0.0000         0.0000           0.0000   \n",
       "25%       13,000.0000   10,000.0000         0.0000           0.0000   \n",
       "50%       25,000.0000   17,000.0000         0.0000           0.0000   \n",
       "75%       40,000.0000   24,000.0000         1.0000           0.0000   \n",
       "90%       54,000.0000   32,000.0000         1.0000           1.0000   \n",
       "max      450,000.0000  110,000.0000         1.0000           1.0000   \n",
       "\n",
       "      Doctorate_Degree   Highschool Some_College   Race_Asian   Race_White  \\\n",
       "count      10,000.0000  10,000.0000  10,000.0000  10,000.0000  10,000.0000   \n",
       "mean            0.0269       0.0042       0.0047       0.1919       0.1234   \n",
       "std             0.1618       0.0647       0.0684       0.3938       0.3289   \n",
       "min             0.0000       0.0000       0.0000       0.0000       0.0000   \n",
       "10%             0.0000       0.0000       0.0000       0.0000       0.0000   \n",
       "25%             0.0000       0.0000       0.0000       0.0000       0.0000   \n",
       "50%             0.0000       0.0000       0.0000       0.0000       0.0000   \n",
       "75%             0.0000       0.0000       0.0000       0.0000       0.0000   \n",
       "90%             0.0000       0.0000       0.0000       1.0000       1.0000   \n",
       "max             1.0000       1.0000       1.0000       1.0000       1.0000   \n",
       "\n",
       "        Race_Black Race_Hispanic Race_Two_Or_More  \n",
       "count  10,000.0000   10,000.0000      10,000.0000  \n",
       "mean        0.0111        0.0166           0.0135  \n",
       "std         0.1048        0.1278           0.1154  \n",
       "min         0.0000        0.0000           0.0000  \n",
       "10%         0.0000        0.0000           0.0000  \n",
       "25%         0.0000        0.0000           0.0000  \n",
       "50%         0.0000        0.0000           0.0000  \n",
       "75%         0.0000        0.0000           0.0000  \n",
       "90%         0.0000        0.0000           0.0000  \n",
       "max         1.0000        1.0000           1.0000  "
      ]
     },
     "execution_count": 382,
     "metadata": {},
     "output_type": "execute_result"
    }
   ],
   "source": [
    "samples[[\"totalyearlycompensation\", \"yearsofexperience\", \"yearsatcompany\",\"basesalary\", \"stockgrantvalue\", \"bonus\", \"Masters_Degree\", \"Bachelors_Degree\", \"Doctorate_Degree\", \"Highschool\", \"Some_College\", \"Race_Asian\", \"Race_White\", \"Race_Black\", \"Race_Hispanic\", \"Race_Two_Or_More\"]].describe(percentiles = [.1,.25,.50,.75,.90]).applymap('{:,.4f}'.format)\n",
    "# Mengambil deskripsi dari data sample dengan format 4 angka di belakang koma"
   ]
  },
  {
   "cell_type": "markdown",
   "metadata": {},
   "source": [
    "## Visualisasi Data\n",
    "\n"
   ]
  },
  {
   "cell_type": "code",
   "execution_count": 383,
   "metadata": {},
   "outputs": [],
   "source": [
    "print(data[data[\"Year\"] == 2020].groupby([\"Month\",\"\"])[\"s\"].sum().unstack())\n",
    "data6 = data[data[\"Year\"] == 2013].groupby([\"MonthNumber\",\"Country\"])[\"Sales\"].sum().unstack()\n",
    "\n",
    "data6.plot(kind=\"line\",title=\"Sum of Sales per Month per Country 2013\",xticks=[9,10,11,12])\n",
    "plt.show()"
   ]
  },
  {
   "cell_type": "markdown",
   "metadata": {},
   "source": []
  },
  {
   "cell_type": "code",
   "execution_count": 384,
   "metadata": {},
   "outputs": [],
   "source": [
    "# data2 = data[data[\"Year\"] == 2014].groupby(\"Product\")[[\"Sales\",\"Profit\"]].sum()\n",
    "\n",
    "# data2.plot(kind=\"line\",title=\"Sales and Profit vs Product 2014\")\n",
    "# plt.show()"
   ]
  }
 ],
 "metadata": {
  "kernelspec": {
   "display_name": "Python 3.10.7 64-bit",
   "language": "python",
   "name": "python3"
  },
  "language_info": {
   "codemirror_mode": {
    "name": "ipython",
    "version": 3
   },
   "file_extension": ".py",
   "mimetype": "text/x-python",
   "name": "python",
   "nbconvert_exporter": "python",
   "pygments_lexer": "ipython3",
   "version": "3.10.7"
  },
  "orig_nbformat": 4,
  "vscode": {
   "interpreter": {
    "hash": "40ed8c2a205e5ff2f7249def3e8c4b768b25c5f3892a2f4884e1613993eabd2c"
   }
  }
 },
 "nbformat": 4,
 "nbformat_minor": 2
}
